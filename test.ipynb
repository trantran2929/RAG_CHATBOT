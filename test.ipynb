{
 "cells": [
  {
   "cell_type": "code",
   "execution_count": 1,
   "id": "cf264705",
   "metadata": {},
   "outputs": [
    {
     "name": "stdout",
     "output_type": "stream",
     "text": [
      "collections=[CollectionDescription(name='rag_knowledge'), CollectionDescription(name='chat_history')]\n",
      "status=<CollectionStatus.GREEN: 'green'> optimizer_status=<OptimizersStatusOneOf.OK: 'ok'> vectors_count=None indexed_vectors_count=0 points_count=2 segments_count=6 config=CollectionConfig(params=CollectionParams(vectors=VectorParams(size=384, distance=<Distance.COSINE: 'Cosine'>, hnsw_config=None, quantization_config=None, on_disk=None, datatype=None, multivector_config=None), shard_number=1, sharding_method=None, replication_factor=1, write_consistency_factor=1, read_fan_out_factor=None, on_disk_payload=True, sparse_vectors=None), hnsw_config=HnswConfig(m=16, ef_construct=100, full_scan_threshold=10000, max_indexing_threads=0, on_disk=False, payload_m=None), optimizer_config=OptimizersConfig(deleted_threshold=0.2, vacuum_min_vector_number=1000, default_segment_number=0, max_segment_size=None, memmap_threshold=None, indexing_threshold=10000, flush_interval_sec=5, max_optimization_threads=None), wal_config=WalConfig(wal_capacity_mb=32, wal_segments_ahead=0), quantization_config=None, strict_mode_config=StrictModeConfigOutput(enabled=False, max_query_limit=None, max_timeout=None, unindexed_filtering_retrieve=None, unindexed_filtering_update=None, search_max_hnsw_ef=None, search_allow_exact=None, search_max_oversampling=None, upsert_max_batchsize=None, max_collection_vector_size_bytes=None, read_rate_limit=None, write_rate_limit=None, max_collection_payload_size_bytes=None, max_points_count=None, filter_max_conditions=None, condition_max_size=None, multivector_config=None, sparse_config=None)) payload_schema={}\n"
     ]
    }
   ],
   "source": [
    "from qdrant_client import QdrantClient\n",
    "\n",
    "client = QdrantClient(host=\"localhost\", port=6333)\n",
    "\n",
    "# List collections\n",
    "print(client.get_collections())\n",
    "\n",
    "# Check info collection\n",
    "info = client.get_collection(\"chat_history\")\n",
    "print(info)\n"
   ]
  },
  {
   "cell_type": "code",
   "execution_count": 5,
   "id": "147b79fa",
   "metadata": {},
   "outputs": [
    {
     "name": "stdout",
     "output_type": "stream",
     "text": [
      "Found 1 collections:\n",
      "\n",
      "========================================\n",
      "Collection name: collection\n",
      "Points count: 0\n",
      "Vector config: size=384, distance=Cosine\n",
      "Sample points (up to 10):\n"
     ]
    }
   ],
   "source": [
    "from qdrant_client import QdrantClient\n",
    "from pprint import pprint\n",
    "\n",
    "client = QdrantClient(host=\"localhost\", port=6333)\n",
    "\n",
    "def inspect_qdrant():\n",
    "    collections = client.get_collections().collections\n",
    "    print(f\"Found {len(collections)} collections:\")\n",
    "    \n",
    "    for col in collections:\n",
    "        print(\"\\n\" + \"=\"*40)\n",
    "        print(f\"Collection name: {col.name}\")\n",
    "        try:\n",
    "            info = client.get_collection(col.name)\n",
    "            print(f\"Points count: {info.points_count}\")\n",
    "            vectors = info.config.params.vectors\n",
    "            if isinstance(vectors, dict):\n",
    "                print(\"Vector names & sizes:\")\n",
    "                for name, vcfg in vectors.items():\n",
    "                    print(f\"  - {name}: size={vcfg.size}, distance={vcfg.distance}\")\n",
    "            else:\n",
    "                print(f\"Vector config: size={vectors.size}, distance={vectors.distance}\")\n",
    "        except Exception as e:\n",
    "            print(\"Could not fetch collection info:\", e)\n",
    "        \n",
    "        print(\"Sample points (up to 10):\")\n",
    "        try:\n",
    "            resp, _ = client.scroll(col.name, limit=10, with_payload=True)\n",
    "            points = getattr(resp, \"result\", resp)\n",
    "            for p in points:\n",
    "                vector_names = list(p.vector.keys()) if isinstance(p.vector, dict) else [\"default\"]\n",
    "                print(f\"  id={p.id}, vector_names={vector_names}, payload={p.payload}\")\n",
    "        except Exception as e:\n",
    "            print(\"Could not fetch points:\", e)\n",
    "\n",
    "if __name__ == \"__main__\":\n",
    "    inspect_qdrant()\n"
   ]
  },
  {
   "cell_type": "code",
   "execution_count": 19,
   "id": "898fe3a0",
   "metadata": {},
   "outputs": [
    {
     "name": "stdout",
     "output_type": "stream",
     "text": [
      "Tổng số vector: None\n"
     ]
    }
   ],
   "source": [
    "from qdrant_client import QdrantClient\n",
    "\n",
    "# Kết nối Qdrant (ví dụ chạy local)\n",
    "client = QdrantClient(\"http://localhost:6333\")\n",
    "\n",
    "collection_name = \"collection\"\n",
    "\n",
    "# Lấy thông tin collection\n",
    "info = client.get_collection(collection_name)\n",
    "print(\"Tổng số vector:\", info.vectors_count)\n"
   ]
  },
  {
   "cell_type": "code",
   "execution_count": 7,
   "id": "e2c803cf",
   "metadata": {},
   "outputs": [
    {
     "name": "stdout",
     "output_type": "stream",
     "text": [
      "Kết quả tìm được: []\n"
     ]
    },
    {
     "name": "stderr",
     "output_type": "stream",
     "text": [
      "C:\\Users\\admin\\AppData\\Local\\Temp\\ipykernel_14208\\2745754574.py:6: DeprecationWarning: `search` method is deprecated and will be removed in the future. Use `query_points` instead.\n",
      "  result = client.search(\n"
     ]
    }
   ],
   "source": [
    "import numpy as np\n",
    "\n",
    "# Giả sử bạn có embedding vector test \n",
    "dummy_vector = np.random.rand(384).tolist()\n",
    "\n",
    "result = client.search(\n",
    "    collection_name=collection_name,\n",
    "    query_vector=dummy_vector,\n",
    "    limit=3\n",
    ")\n",
    "\n",
    "print(\"Kết quả tìm được:\", result)\n"
   ]
  },
  {
   "cell_type": "code",
   "execution_count": 2,
   "id": "cafb2401",
   "metadata": {},
   "outputs": [
    {
     "name": "stdout",
     "output_type": "stream",
     "text": [
      "📂 Danh sách collections trong Qdrant:\n",
      " - collection: 0 vectors\n"
     ]
    }
   ],
   "source": [
    "import qdrant_client\n",
    "\n",
    "def check_collections():\n",
    "    client = qdrant_client.QdrantClient(host=\"localhost\", port=6333)\n",
    "\n",
    "    collections = client.get_collections()\n",
    "    print(\"📂 Danh sách collections trong Qdrant:\")\n",
    "    for coll in collections.collections:\n",
    "        name = coll.name\n",
    "\n",
    "        # Dùng count để chắc chắn có số vector\n",
    "        count = client.count(collection_name=name, exact=True).count\n",
    "        print(f\" - {name}: {count} vectors\")\n",
    "\n",
    "    if not collections.collections:\n",
    "        print(\"⚠️ Không có collection nào trong Qdrant (rỗng).\")\n",
    "\n",
    "if __name__ == \"__main__\":\n",
    "    check_collections()\n"
   ]
  },
  {
   "cell_type": "code",
   "execution_count": 14,
   "id": "24e26cbe",
   "metadata": {},
   "outputs": [
    {
     "name": "stdout",
     "output_type": "stream",
     "text": [
      "collections=[CollectionDescription(name='collection')]\n",
      "count=1\n",
      "([Record(id=351531, payload={'source': 'app'}, vector=None, shard_key=None, order_value=None)], None)\n"
     ]
    }
   ],
   "source": [
    "from qdrant_client import QdrantClient\n",
    "\n",
    "client = QdrantClient(\"http://localhost:6333\")\n",
    "\n",
    "# Xem các collection hiện có\n",
    "print(client.get_collections())\n",
    "\n",
    "# Nếu có collection \"documents\", xem thử số lượng points\n",
    "print(client.count(collection_name=\"collection\", exact=True))\n",
    "\n",
    "# Lấy vài point mẫu\n",
    "points = client.scroll(collection_name=\"collection\", limit=5)\n",
    "print(points)\n"
   ]
  },
  {
   "cell_type": "code",
   "execution_count": 4,
   "id": "c11b90b1",
   "metadata": {},
   "outputs": [
    {
     "name": "stdout",
     "output_type": "stream",
     "text": [
      "{'id': '188250924111917324', 'title': 'TP HCM: Tin vui cho người dân ở chung cư cũ', 'time': '(24/09/2025 12:41)', 'summary': 'Chung cư xây dựng trước năm 1994  sẽ được hỗ trợ cải tạo, xây dựng lại; TP HCM cũng kiểm định lại chất lượng hàng trăm chung cư cũ.', 'link': 'https://cafef.vn/tp-hcm-tin-vui-cho-nguoi-dan-o-chung-cu-cu-188250924111917324.chn', 'content': 'Chủ tịch UBND TP HCM vừa chỉ đạo triển khai Nghị quyết số 17/2025 của HĐND TP HCM quy định cơ chế ưu đãi, hỗ trợ đối với chủ đầu tư khi tham gia cải tạo, xây dựng lại nhà chung cư trên địa bàn thành phố.\\nTP HCM triển khai nhiều nội dung hỗ trợ chung cư cũ xây dựng trước năm 1994.\\nTheo đó, Chủ tịch UBND TP HCM giao Sở Tài chính chủ trì, hướng dẫn Sở Xây dựng là cơ quan được bố trí dự toán kinh phí từ nguồn vốn chi thường xuyên ngân sách cấp thành phố để thực hiện cơ chế theo Nghị quyết 17/2025.\\nUBND 42 phường có chung cư xây dựng trước năm 1994 trên địa bàn thông tin đến tổ chức, cá nhân tại vị trí, khu vực có chung cư thuộc diện cải tạo, xây dựng lại để tham gia thực hiện.\\nSở Xây dựng chủ trì, phối hợp cơ quan, đơn vị có liên quan căn cứ nội dung Nghị quyết tham mưu UBND TP HCM xem xét, giải quyết cho các chủ đầu tư dự án cải tạo, xây dựng lại nhà chung cư theo đúng phạm vi, đối tượng, nội dung, mức, nguyên tắc, phương thức ưu đãi, hỗ trợ... bảo đảm phù hợp quy định pháp luật hiện hành.\\nTrong 42 chung cư cũ có 40 chung cư thuộc TP HCM cũ và 2 chung cư thuộc tỉnh Bà Rịa - Vũng Tàu cũ (phường Vũng Tàu, phường Tam Thắng).\\nNghị quyết 17/2025 của HĐND TP HCM ban hành ngày 24-7, quy định cơ chế ưu đãi đối với chủ đầu tư tham gia dự án cải tạo, xây dựng lại nhà chung cư trên địa bàn. Theo đó, thành phố sẽ hỗ trợ 50% kinh phí xây dựng hạ tầng kỹ thuật bên ngoài tòa nhà như hệ thống giao thông, cấp nước, thoát nước, chiếu sáng, xử lý chất thải… với mức hỗ trợ tối đa 10 tỉ đồng mỗi dự án.\\nBên cạnh đó, thành phố hỗ trợ 50% kinh phí di dời, cưỡng chế các hộ dân theo phương án được cơ quan có thẩm quyền phê duyệt.\\nNội dung hỗ trợ chỉ thực hiện sau khi chủ đầu tư hoàn thành hạ tầng hoặc công tác di dời theo tiến độ được duyệt. Trường hợp dự án triển khai phân kỳ giai đoạn đầu tư, phần hỗ trợ sẽ được xem xét theo phân kỳ dự án.\\nTP HCM cũng đang triển khai công tác kiểm định chất lượng chung cư cũ.\\nTheo báo cáo đề xuất của các quận, huyện trực thuộc UBND TP HCM trước đây và báo cáo đề xuất của UBND các phường, Sở Xây dựng đã tổng hợp danh sách đề xuất 156 chung cư cũ (gồm 193 lô) cần kiểm định.\\nChung cư Vĩnh Hội là chung cư cấp D nhưng mới chỉ có 12/144 hộ di dời.\\nTrong số này có 57 chung cư cũ đề xuất thực hiện kiểm định mới; 99 chung cư đề xuất kiểm định lại do đa số các chung cư này đều đã được kiểm định trong giai đoạn năm 2016-2017 có kết quả kiểm định cấp C, cần thiết thực hiện kiểm định, đánh giá lại chất lượng công trình.\\nĐối với các chung cư cũ đã được kiểm định trong giai đoạn năm 2016-2017 có kết quả kiểm định cấp B, không thực hiện kiểm định lại trong thời điểm hiện nay do chưa cần thiết.\\nCác chung cư cũ được đề xuất kiểm định, kiểm định lại trên địa bàn 30 phường, Sở Xây dựng đề nghị bổ sung dự trù kinh phí kiểm định, kiểm định lại từng lô, gửi về Sở Xây dựng trước ngày 12-9.\\nTP HCM (cũ) có 474 chung cư được xây dựng trước năm 1975, trong đó 462 chung cư trong số này đã được kiểm định và xác định gồm 332 chung cư cấp B (chiếm 72%), 114 chung cư cấp C (25%) và 16 chung cư cấp D (3%).\\nTheo Sở Xây dựng TP HCM, đến nay, đối với 16 chung cư cấp D, đã di dời toàn bộ 534 hộ dân tại 9/16 chung cư. Cụ thể, chung cư 128 Hai Bà Trưng (94 hộ); 23 Lý Tự Trọng (81 hộ); 6 bis Nguyễn Tất Thành (26 hộ); 40/1 Tân Phước (78 hộ); 47 Long Hưng (30 hộ); 170-171 Tân Châu (24 hộ); 440 Trần Hưng Đạo (21 hộ); 155-157 Bùi Viện (100 hộ); Tân Hòa Đông (80 hộ).'}\n",
      "{'id': '188250924111630516', 'title': \"Hé lộ chiêu thức dựng dự án 'ảo', lừa bán đất nền ở vùng quê\", 'time': '(24/09/2025 12:41)', 'summary': 'Sau khi gom đất vườn, đất ở của người dân vùng nông thôn, nhà đầu tư bất động sản đã tung ra các thông tin gian dối về “dự án đất nền” để nhằm thu hút khách, song thực tế ngành chức năng xác định không có dự án đất nền nào trên địa bàn xã Toàn Lưu.', 'link': 'https://cafef.vn/he-lo-chieu-thuc-dung-du-an-ao-lua-ban-dat-nen-o-vung-que-188250924111630516.chn', 'content': 'Những ngày qua, thông tin về tình hình giá đất tại Hà Tĩnh được nhiều người quan tâm. Đáng nói khi quy hoạch Khu công nghiệp phía Tây thành phố Hà Tĩnh cũ được công bố, “cò đất” ùn ùn đổ về vùng quê, ô tô đậu kín đường làng khiến nhiều người xôn xao. Trong khi địa phương cảnh báo đây chỉ là “cơn sốt ảo đất”, nhưng một số nhà đầu tư đã tung ra các thông tin gian dối về mở bán “dự án đất nền” để nhằm thu hút khách.\\nCụ thể, ngày 20/9, đơn vị tổ chức là Công ty TNHH MTV Đông Quân LAND đã mở bán dự án bán “Đất nền ven sông”. Để thu hút khách hàng, đơn vị này đã làm thư mời, chạy quảng cáo rầm rộ trên mạng xã hội với những thông tin như: “Dự án đất nền ven sông, nằm ở vị trí đắc địa, có thể xây nhà ở, kinh doanh, gần khu công nghiệp phía Tây thành phố Hà Tĩnh”. Cùng với những thư mời, quảng cáo, đơn vị phân đất nền còn đưa ra những bản chi tiết về các khu đất được phân lô bài bản, đường trải thảm, hệ thống cây xanh ven sông.\\nRất đông người có mặt tại \"dự án ảo\" bán đất nền ven sông tại xã Toàn Lưu.\\nTrong ngày mở bán, hàng chục người đã tập trung tại khu đất, dựng bàn ghế, bày biện bánh kẹo, nước uống và tụ tập trò chuyện như thể đang diễn ra hoạt động mua bán thực sự. Đáng chú ý, một nhóm người còn di chuyển bằng xe khách loại lớn đến “xem đất”, khiến khu vực vốn heo hút bỗng trở nên nhộn nhịp, tạo cảm giác như đây là một dự án thật, có tổ chức.\\nSong thực chất đây không phải là dự án được phê duyệt, chỉ là bãi đất trống được phân lô, bán nền. Mặc dù rao bán rầm rộ dưới danh nghĩa \"dự án đất nền ven sông\", tuy nhiên lãnh đạo UBND xã Toàn Lưu khẳng định: “Trên địa bàn xã không có bất kỳ dự án đất nền nào được cấp phép”.\\nNhiều người có mặt tại khu đất nền được rao bán là \"dự án\" ở xã Toàn lưu để xem, tham khảo.\\nÔng Bùi Tôn Quân, người đại diện pháp luật của Công ty TNHH MTV Đông Quân LAND cho biết, đơn vị này không phải là chủ đầu tư dự án, mà chỉ ký hợp đồng phân phối các lô đất nền cho chủ sở hữu khu đất. Còn ngày diễn ra buổi mở bán đất nền, phía cộng tác viên của công ty đã đưa khách đến tham quan, xem đất, còn không bán được lô nào trên khu này.\\nCùng với những chiêu trò đưa thông tin về dự án bán đất nền để tạo lòng tin, nhiều khu đất mới san gạt nền, chưa có đường điện, nước, mương nước song vẫn được rao bán với giá từ 400 triệu đến 1 tỷ đồng với lời cam kết pháp lý đầy đủ, hạ tầng hoàn thiện sớm.\\nKhông có dự án bán đất nền tại địa phương\\nTrao đổi với Tiền Phong, ông Nguyễn Tiến Dũng - Trưởng phòng Quản lý Nhà và Thị trường bất động sản (Sở Xây dựng Hà Tĩnh) khẳng định, trên địa bàn xã Toàn Lưu hiện không có bất kỳ dự án đất nền nào được cấp phép.\\nTheo Trưởng phòng Quản lý Nhà và Thị trường bất động sản, việc tách thửa đất ở theo quy định là một chính sách mang tính nhân văn, nhằm tạo điều kiện cho người dân đặc biệt là các hộ gia đình đông con có thể phân chia đất để xây dựng nhà ở ổn định.\\nTuy nhiên, thời gian qua, một số cá nhân, tổ chức đã lợi dụng chính sách này để gom mua đất nông thôn, sau đó lợi dụng quy định về hiến đất mở đường để tạo ra các tuyến đường nội bộ, nhằm hợp thức hóa việc tách thửa và rao bán đất nền.\\nViệc này diễn ra tràn lan, thiếu kiểm soát, có khả năng dẫn đến nhiều hệ lụy như phá vỡ quy hoạch, hạ tầng và ảnh hưởng đến trật tự quản lý đất đai trên địa bàn và phát triển bền vững của địa phương trong tương lai.\\nSố lượng xe ô tô đến tại đường làng để xem đất gây xôn xao.\\nCũng theo ông Dũng, hạ tầng ở những khu vực này thường chỉ được làm đối phó, đường xá bị bẻ cong để tách được nhiều lô đất hơn. Các khu đất được tách đất nền hầu không có hệ thống điện, nước, thoát nước bài bản, nhiều công trình vừa hoàn thành đã xuống cấp. Cùng với đó phần lớn các khu đất phân lô kiểu này không có người ở.\\n“Không ít trường hợp còn quảng bá sai sự thật, như đưa ra thông tin bán đất nền ‘dự án ven sông’. Thực tế, đây chỉ là hoạt động tự phát, không có dự án nào. Tình trạng phân lô, bán nền ở xã Toàn Lưu mới bắt đầu rộ lên trong khoảng một năm trở lại đây. Việc quảng cáo sai lệch không chỉ đánh lừa người mua mà còn ảnh hưởng đến hạ tầng, trật tự quy hoạch và quản lý đất đai tại địa phương\", Trưởng Phòng Quản lý Nhà và Thị trường bất động sản thông tin.\\nĐại diện Phòng Quản lý Nhà và Thị trường bất động sản cũng cho biết, hiện nay, lực lượng công an đã vào cuộc, tiến hành xác minh, mời một số cá nhân liên quan lên làm việc để làm rõ các dấu hiệu vi phạm trong hoạt động mua bán, quảng bá đất nền tại khu vực này.'}\n",
      "{'id': '188250924111100044', 'title': 'Nữ diễn viên quê Tiền Giang sở hữu cả một khu sinh thái rộng 5 hecta, nhìn cây cối xanh mướt mà ai cũng phải khen: Mẹ 4 con vừa giàu vừa giỏi', 'time': '(24/09/2025 12:40)', 'summary': 'Ngay sau màn \"flex\" siêu dễ thương của Vân Trang tại 2 Ngày 1 Đêm, netizen đã ngay lập tức tò mò tìm kiếm khu nghỉ dưỡng đậm chất miền Tây của nữ diễn viên.', 'link': 'https://cafef.vn/nu-dien-vien-que-tien-giang-so-huu-ca-mot-khu-sinh-thai-rong-5-hecta-nhin-cay-coi-xanh-muot-ma-ai-cung-phai-khen-me-4-con-vua-giau-vua-gioi-188250924111100044.chn', 'content': 'Xuất hiện trong tập 81 của 2 Ngày 1 Đêm mùa 4, nữ diễn viên Vân Trang khiến nhiều người bất ngờ khi chia sẻ về cơ ngơi đồ sộ của mình tại quê nhà Tiền Giang – một khu sinh thái rộng đến 5 hecta (50.000m²), có sức chứa khoảng 1000 khách.\\nVới hồ cá Koi sinh thái 1000m² – được cô tiết lộ là lớn nhất Đông Nam Á – cùng cảnh quan miệt vườn xanh mát, nơi đây thực sự là \"thiên đường nghỉ dưỡng\" khiến nhiều nghệ sĩ và khán giả phải trầm trồ.\\nĐiều đặc biệt, khu vườn sinh thái này được Vân Trang và ông xã Quân Lê xây dựng lấy cảm hứng từ tuổi thơ của chính cô. Mong muốn các con có một chốn nghỉ dưỡng gần gũi, thoải mái, gia đình cô đã mạnh tay đầu tư để biến khu đất rộng lớn thành một khu du lịch đậm chất Nam Bộ.\\nHồ Sinh Thái cá Koi lớn nhất khu vực Đông Nam Á rộng 1000m2 của Vân Trang\\nMỗi khu nghỉ dưỡng tại đây đều mang phong cách làng quê mộc mạc, được thiết kế bằng gỗ, tre, nứa. Không gian trưng bày thêm chén, đĩa, tủ gỗ cổ xưa, gợi nhớ về nếp sống Nam Bộ xưa. Những căn bếp nấu bằng lò than, những hàng tre xanh mát trước sân càng khiến khu sinh thái trở nên gần gũi và ấm áp.\\nCách đặt tên cho từng căn nhà cũng đầy gợi nhớ, thay vì cầu kỳ hoa mỹ, Vân Trang gọi chúng bằng những cái tên thân quen: nhà dì Ba, nhà cậu Tư, nhà má Năm, nhà má Sáu… – một sự lựa chọn vừa mộc mạc, vừa chan chứa tình cảm gia đình.\\nHình ảnh của khu sinh thái nhà Vân Trang xuất hiện trong show 2 Ngày 1 Đêm\\nTrong khu sinh thái, từng căn nhà nghỉ đều được bố trí bàn ghế, giường tủ thoải mái, tạo cảm giác như đang ở trong một ngôi nhà quê đúng nghĩa. Hệ sinh thái tự nhiên vốn có của khu đất được giữ nguyên, chỉ bổ sung một số hạng mục mới để đảm bảo tiện nghi. Nhờ vậy, nơi đây mang lại cảm giác vừa đơn sơ, mộc mạc, vừa mát mẻ, thoáng đãng.\\nKhông gian ngập tràn màu xanh của khu sinh thái nhà Vân Trang (Ảnh fanpage Garden Ville TIỀN GIANG)\\nNgoài cây ăn trái, nhiều loại cây lâu năm cũng được trồng, giúp không gian luôn xanh mướt, trong lành. Du khách đến đây thường choáng ngợp trước diện tích rộng lớn, \"đi mỏi chân vẫn chưa hết điểm tham quan\".\\nNhững bữa ăn đậm chất miền Tây được phục vụ tại khu nghỉ dưỡng\\nVân Trang tên đầy đủ là Nguyễn Ngọc Thùy Trang, sinh năm 1990, là một nữ diễn viên kiêm người dẫn chương trình.\\nCô được biết đến là một nữ diễn viên thực lực và là gương mặt nổi bật với nhiều vai diễn quan trọng qua các bộ phim điện ảnh và truyền hình. Năm 2007, đạo diễn Đinh Đức Liêm đặt nghệ danh Vân Trang cho Trang để tránh trùng lặp với diễn viên Thùy Trang. Nghệ danh Vân Trang là sự kết hợp của vai diễn đầu tiên và tên thật của Trang.\\nXuyên suốt sự nghiệp của mình, Vân Trang có những vai diễn nổi bật như Mai Phương trong Gia đình phép thuật, Hương Giang trong Dù gió có thổi, Mai Châu trong Cô dâu đại chiến, Tuyên Từ Thái hậu trong Thiên mệnh anh hùng và Ý Linh trong Scandal: Bí mật thảm đỏ.\\nSau khi kết hôn với doanh nhân Việt kiều Quân Lê, Vân Trang lần lượt sinh 4 con: Queenie (2016), cặp song sinh Quinisha – Quianna (2021), và bé trai Q Junior (2024).\\nỞ tuổi 35, nữ diễn viên không chỉ giữ được nhan sắc trẻ trung, sự nghiệp nghệ thuật bền bỉ mà còn được ngưỡng mộ bởi tổ ấm hạnh phúc và khối tài sản đáng mơ ước: Khu sinh thái rộng 50.000m², hai spa lớn và căn biệt thự gần 1000m² tại TP.HCM.\\nDẫu được gọi là \"đại gia ngầm\" của Vbiz, Vân Trang vẫn khiêm tốn khẳng định:\"Tôi có một chuỗi spa ở TP.HCM và một khu nghỉ dưỡng ở Tiền Giang nhưng tôi không phải \"đại gia ngầm\" gì đâu. Mọi người làm ra tiền và dùng nó để hưởng thụ còn tôi lại dùng tiền để lao vào công việc cho nên ở góc độ nào đó tôi cũng vất vả lắm. Tôi không dùng đồ hiệu vì muốn để tiền đó làm những công việc khác. Ví dụ, việc kinh doanh spa hay khu nghỉ dưỡng đã tạo công ăn việc làm cho rất nhiều người lao động và tôi cảm thấy đó là một việc làm vô cùng ý nghĩa.\\nTôi không phải \"đại gia\" đâu, cái đó do mọi người nghĩ thôi chứ phải có cả ngàn tỉ mới là đại gia chứ. Với tôi, trong túi dù có 1 tỉ đồng hay 10 triệu đồng tôi vẫn cảm thấy hạnh phúc vì mình được thoải mái sử dụng đồng tiền của mình. Còn ví dụ mình có nhiều tiền nhưng phải sống ki bo thì mình cũng không cảm thấy thoải mái. Tôi nghĩ mình làm ra tiền, biết sử dụng nó để tạo ra giá trị cho bản thân, cho cộng đồng đó mới là điều tốt nhất và là mục đích cuộc sống của tôi\".\\nGiữa showbiz nhiều thị phi, Vân Trang trở thành hình mẫu người phụ nữ hiện đại: Vừa gìn giữ hạnh phúc gia đình, vừa gặt hái thành công trong sự nghiệp, vừa kiến tạo không gian sống xanh mát gắn với thiên nhiên. Khu sinh thái miệt vườn rộng 5 hecta ở Tiền Giang không chỉ là tài sản đáng giá, mà còn là dấu ấn của một tuổi thơ được nữ diễn viên nâng niu và tiếp nối cho các con.'}\n"
     ]
    }
   ],
   "source": [
    "import requests\n",
    "from bs4 import BeautifulSoup\n",
    "\n",
    "BASE_URL = \"https://cafef.vn\"\n",
    "\n",
    "\n",
    "def get_url(page: int) -> str:\n",
    "    return f\"{BASE_URL}/doc-nhanh.chn\" if page == 1 else f\"{BASE_URL}/doc-nhanh/trang-{page}.chn\"\n",
    "\n",
    "\n",
    "def get_article_content(link: str) -> str:\n",
    "    \"\"\"Vào trang chi tiết và lấy toàn bộ nội dung\"\"\"\n",
    "    resp = requests.get(link, timeout=10)\n",
    "    resp.encoding = \"utf-8\"\n",
    "    soup = BeautifulSoup(resp.text, \"html.parser\")\n",
    "\n",
    "    content_div = soup.select_one(\"div.detail-content\")\n",
    "    if not content_div:\n",
    "        return \"\"\n",
    "\n",
    "    # Ghép các đoạn văn lại\n",
    "    paragraphs = [p.get_text(strip=True) for p in content_div.find_all(\"p\") if p.get_text(strip=True)]\n",
    "    return \"\\n\".join(paragraphs)\n",
    "\n",
    "\n",
    "def crawl_cafef(max_pages: int = 1):\n",
    "    articles = []\n",
    "    for page in range(1, max_pages + 1):\n",
    "        url = get_url(page)\n",
    "        resp = requests.get(url, timeout=10)\n",
    "        resp.encoding = \"utf-8\"\n",
    "        soup = BeautifulSoup(resp.text, \"html.parser\")\n",
    "\n",
    "        blocks = soup.select(\"div.nv-text-cont\")\n",
    "        for block in blocks:\n",
    "            link_tag = block.select_one(\"a.news-title\")\n",
    "            if not link_tag:\n",
    "                continue\n",
    "\n",
    "            href = link_tag[\"href\"]\n",
    "            article_id = href.split(\"-\")[-1].replace(\".chn\", \"\")\n",
    "            title = link_tag.get(\"title\") or link_tag.text.strip()\n",
    "            link = BASE_URL + href\n",
    "\n",
    "            details = block.find_next_sibling(\"div\", class_=\"nv-details\")\n",
    "            short_content = details.select_one(\"div.abs\").text.strip() if details else \"\"\n",
    "            time_tag = details.select_one(\"span.time\")\n",
    "            time_text = time_tag.get_text(strip=True) if time_tag else \"\"\n",
    "\n",
    "            # Lấy toàn bộ nội dung trong link\n",
    "            full_content = get_article_content(link)\n",
    "\n",
    "            articles.append({\n",
    "                \"id\": article_id,\n",
    "                \"title\": title,\n",
    "                \"time\": time_text,\n",
    "                \"summary\": short_content,\n",
    "                \"link\": link,\n",
    "                \"content\": full_content\n",
    "            })\n",
    "    return articles\n",
    "\n",
    "\n",
    "if __name__ == \"__main__\":\n",
    "    data = crawl_cafef(max_pages=2)\n",
    "    for item in data[:3]:\n",
    "        print(item)\n"
   ]
  },
  {
   "cell_type": "code",
   "execution_count": null,
   "id": "ba1c8623",
   "metadata": {},
   "outputs": [],
   "source": [
    "import requests\n",
    "from bs4 import BeautifulSoup\n",
    "\n",
    "BASE_URL = \"https://cafef.vn\"\n",
    "\n",
    "\n",
    "def get_url(page: int) -> str:\n",
    "    \"\"\"Sinh URL cho từng trang tin nhanh.\"\"\"\n",
    "    return f\"{BASE_URL}/doc-nhanh.chn\" if page == 1 else f\"{BASE_URL}/doc-nhanh/trang-{page}.chn\"\n",
    "\n",
    "\n",
    "def get_article_content(link: str) -> str:\n",
    "    \"\"\"Vào trang chi tiết và lấy toàn bộ nội dung bài viết.\"\"\"\n",
    "    try:\n",
    "        resp = requests.get(link, timeout=10)\n",
    "        resp.encoding = \"utf-8\"\n",
    "    except Exception as e:\n",
    "        print(f\"[Crawler] Lỗi khi request {link}: {e}\")\n",
    "        return \"\"\n",
    "\n",
    "    if resp.status_code != 200:\n",
    "        print(f\"[Crawler] Lỗi {resp.status_code} khi truy cập {link}\")\n",
    "        return \"\"\n",
    "\n",
    "    soup = BeautifulSoup(resp.text, \"html.parser\")\n",
    "\n",
    "    content_div = soup.select_one(\"div.detail-content\")\n",
    "    if not content_div:\n",
    "        return \"\"\n",
    "\n",
    "    # Ghép các đoạn văn lại\n",
    "    paragraphs = [\n",
    "        p.get_text(strip=True)\n",
    "        for p in content_div.find_all(\"p\")\n",
    "        if p.get_text(strip=True)\n",
    "    ]\n",
    "    return \"\\n\".join(paragraphs)\n",
    "\n",
    "\n",
    "def crawl_cafef(max_pages: int = 1):\n",
    "    \"\"\"Crawl tin nhanh trên CafeF, trả về list dict bài viết.\"\"\"\n",
    "    articles = []\n",
    "    for page in range(1, max_pages + 1):\n",
    "        url = get_url(page)\n",
    "        try:\n",
    "            resp = requests.get(url, timeout=10)\n",
    "            resp.encoding = \"utf-8\"\n",
    "        except Exception as e:\n",
    "            print(f\"[Crawler] Lỗi khi request {url}: {e}\")\n",
    "            continue\n",
    "\n",
    "        if resp.status_code != 200:\n",
    "            print(f\"[Crawler] Lỗi {resp.status_code} khi truy cập {url}\")\n",
    "            continue\n",
    "\n",
    "        soup = BeautifulSoup(resp.text, \"html.parser\")\n",
    "\n",
    "        # Mỗi bài trong block fast-news\n",
    "        items = soup.select(\"div.foreverblock.list-fast-news div.item\")\n",
    "        for item in items:\n",
    "            nv_text = item.select_one(\"div.nv-text-cont\")\n",
    "            if not nv_text:\n",
    "                continue\n",
    "\n",
    "            link_tag = nv_text.select_one(\"a.news-title\")\n",
    "            if not link_tag:\n",
    "                continue\n",
    "\n",
    "            href = link_tag[\"href\"]\n",
    "            article_id = item.get(\"data-id\") or href.split(\"-\")[-1].replace(\".chn\", \"\")\n",
    "            title = link_tag.get(\"title\") or link_tag.text.strip()\n",
    "            link = BASE_URL + href if href.startswith(\"/\") else href\n",
    "\n",
    "            details = item.select_one(\"div.nv-details\")\n",
    "            summary = (\n",
    "                details.select_one(\"div.abs\").get_text(strip=True)\n",
    "                if details and details.select_one(\"div.abs\")\n",
    "                else \"\"\n",
    "            )\n",
    "            time_text = (\n",
    "                details.select_one(\"span.time\").get_text(strip=True)\n",
    "                if details and details.select_one(\"span.time\")\n",
    "                else \"\"\n",
    "            )\n",
    "\n",
    "            # Crawl nội dung chi tiết\n",
    "            full_content = get_article_content(link)\n",
    "\n",
    "            articles.append(\n",
    "                {\n",
    "                    \"id\": article_id,\n",
    "                    \"title\": title,\n",
    "                    \"time\": time_text,\n",
    "                    \"summary\": summary,\n",
    "                    \"link\": link,\n",
    "                    \"content\": full_content,\n",
    "                }\n",
    "            )\n",
    "\n",
    "    print(f\"[Crawler] Crawled {len(articles)} articles\")\n",
    "    return articles\n",
    "\n",
    "\n",
    "if __name__ == \"__main__\":\n",
    "    data = crawl_cafef(max_pages=2)\n",
    "    for item in data[:2]:\n",
    "        print(item)\n"
   ]
  },
  {
   "cell_type": "code",
   "execution_count": 7,
   "id": "86696aec",
   "metadata": {},
   "outputs": [
    {
     "name": "stdout",
     "output_type": "stream",
     "text": [
      "collections=[CollectionDescription(name='collection')]\n"
     ]
    }
   ],
   "source": [
    "from qdrant_client import QdrantClient\n",
    "client = QdrantClient()\n",
    "print(client.get_collections())\n"
   ]
  },
  {
   "cell_type": "code",
   "execution_count": 4,
   "id": "e5f4f0c2",
   "metadata": {},
   "outputs": [
    {
     "name": "stdout",
     "output_type": "stream",
     "text": [
      "[Crawler] Crawled 22 articles\n",
      "{'id': '188250925011238282', 'title': 'Nhà sáng lập FinPeace chỉ ra bí kíp đầu tư chứng khoán “không mất ngủ”', 'time': '25-09-2025 07:00:00', 'summary': 'Theo ông Nguyễn Tuấn Anh – nhà sáng lập FinPeace, thành công của đầu tư không chỉ đo thường bằng tỷ suất sinh lời, mà có thể được tính bằng những giấc ngủ ngon, không bị ác mộng bởi tiền bạc.', 'url': 'https://cafef.vn/nha-sang-lap-finpeace-chi-ra-bi-kip-dau-tu-chung-khoan-khong-mat-ngu-188250925011238282.chn', 'content': 'Trong những giai đoạn thị trường chứng khoán biến động mạnh, không ít nhà đầu tư rơi vào trạng thái thấp thỏm, lo âu, thậm chí mất ngủ vì danh mục “đỏ lửa”. Những cơn “ác mộng” thua lỗ trở thành nỗi ám ảnh thường trực, khiến đầu tư đôi khi không còn là hành trình tìm kiếm sự an tâm tài chính mà lại trở thành gánh nặng tinh thần.\\n“Đầu tư mà tối về còn gặp ác mộng thì kể cả người giàu cũngkhóc mất!”,đó là những chia sẻ của ông Nguyễn Tuấn Anh, Nhà sáng lập FinPeace tại talkshow \"The Investors\" mùa 2 – The Resilient, do CafeF phối hợp cùng Chứng khoán VPBank (VPBankS) tổ chức lên sóng ngày 23/9 vừa qua.\\nTrong cuộc trò chuyện, Nguyễn Tuấn Anh kể lại cú sốc đầu đời khi mất trắng toàn bộ khoản đầu tư tương đương 30 tháng lương vì quá liều lĩnh. Trải nghiệm ấy khiến ông nhận ra rằng, một quyết định tài chính có thể làm con người bất an đến mức mất ngủ. Từ biến cố này, ông bắt đầu định hình một triết lý đầu tư mới, đó là không chạy theo lợi nhuận bằng mọi giá, mà ưu tiên sự bình an và tạo ra giá trị một cách bền vững.\\nNhà sáng lập FinPeace chỉ ra một số sai lầm mà nhà đầu tư thường mắc phải. Thứ nhất, nhiều người lẫn lộn giữa ngắn hạn và dài hạn. Ví dụ, một người mua căn hộ với mục tiêu giữ lâu dài, nhưng chỉ sau ba tháng khi giá tăng thì chính họ lại dao động có nên bán ngay không hoặc khi giá giảm thì vội lo lắng. Ban đầu định dài hạn, nhưng chỉ một biến động ngắn hạn đã khiến họ mất bình tĩnh. Hầu hết các khoản thua lỗ đều xuất phát từ cảm xúc, từ những phản xạ bốc đồng.\\nSai lầm thứ hai là biến công cụ thành mục đích. Nhiều người mua nhà để ở, nhưng giá tăng 10% thì vội bán, rồi nhận ra bán xong lại chẳng mua được gì khác. Trên thị trường chứng khoán, không ít nhà đầu cơ ngắn hạn cũng vậy. Họ đầu tư lần đầu và có lãi 20–30%, đó là thời điểm hợp lý để chốt lời, nhưng phần lớn lại không dừng mà tiếp tục dồn thêm tiền vào. Kỷ luật chốt lời là điều mà ít ai giữ được khi đang thắng thế.\\nVà cuối cùng, ở góc độ quản trị danh mục, ông Tuấn Anh cho rằng mỗi nhà đầu tư đều có “ngưỡng chịu đựng” riêng. Khi vượt qua ngưỡng đó, dù đầu tư vào cổ phiếu, bất động sản hay tài sản số, thì hệ quả tất yếu vẫn là những đêm mất ngủ. Chính vì thế, điều quan trọng không nằm ở việc sao chép chiến lược của người khác, mà ở khả năng thiết kế danh mục phù hợp với giới hạn tâm lý của bản thân. Cảm xúc cá nhân quan trọng hơn hết, nếu đầu tư với số tiền vượt quá sức chịu đựng sẽ dẫn đến bất an, mất ngủ, thậm chí ám ảnh.\\n“Bình an” theo ông Tuấn Anh là khi nhà đầu tư biết rõ mình đang nắm giữ gì, kiểm soát được trong phạm vi nào và không tự đưa bản thân vào rủi ro vượt quá sức chịu đựng. Cảm giác mất ngủ, lo lắng hay hoang mang kéo dài chính là dấu hiệu cho thấy phương pháp đang sai, dù lợi nhuận ngắn hạn có thể hấp dẫn đến đâu.\\nÔng cũng nhấn mạnh rằng vốn nhỏ không phải là bất lợi, mà có thể là lợi thế. Người mới tham gia thị trường với số vốn vừa phải có thể dễ quản trị cảm xúc hơn, không bị áp lực quá lớn khi xảy ra biến động. Với nhà đầu tư, việc học theo một “ông thầy” trong giai đoạn đầu cũng là lựa chọn khôn ngoan, giúp tránh được sự nhiễu loạn thông tin và tạo nền tảng vững chắc trước khi tự phát triển phương pháp riêng.\\nSau thành công của series talkshow truyền cảm hứng ngành chứng khoán \"The Investors\" (Người Đầu Tư) mùa 1, CafeF tiếp tục phối hợp cùng Chứng khoán VPBank (VPBankS) mang đến mùa 2 - The Resilient. Các talkshow năm nay tôn vinh những nhà đầu tư kiên trì, bền bỉ vượt qua những cơn bão của thị trường để tồn tại và phát triển, đánh dấu bước tiến tiếp theo trong hành trình kể lại câu chuyện đầu tư một cách chân thực, sâu sắc và đầy cảm xúc.\\n\"The Investors\" mùa 2 được phát sóng vào 10h00 thứ Ba hàng tuần trên Fanpage CafeF, CafeBiz và VPBankS.\\nVPBankS là công ty chứng khoán duy nhất thuộc hệ sinh thái VPBank, có vốn điều lệ 15.000 tỷ đồng, nằm trong top dẫn đầu thị trường. VPBankS liên tục mở rộng hợp tác chiến lược và làm giàu hệ sinh thái sản phẩm từ giao dịch cổ phiếu, trái phiếu, phái sinh đến chứng chỉ quỹ, danh mục đầu tư mẫu và quản lý tài sản… mang đến trải nghiệm đầu tư được cá nhân hóa theo từng khẩu vị rủi ro và đáp ứng mọi nhu cầu của khách hàng.\\nMới đây, công ty đã ra mắt StockGuru - trợ lý đầu tư chứng khoán ứng dụng công nghệ Agentic AI đầu tiên tại Việt Nam trên nền tảng số NEO Invest. Với khả năng xử lý dữ liệu thị trường theo thời gian thực, phân tích và gợi ý đầu tư theo từng khẩu vị rủi ro, StockGuru đang từng bước định nghĩa lại cách thức nhà đầu tư tương tác với thị trường.', 'source': 'cafef'}\n",
      "{'id': '188250924224827362', 'title': 'Một công ty chốt trả cổ tức tiền mặt cao nhất lịch sử ngay trong tháng 10', 'time': '25-09-2025 06:02:00', 'summary': 'Kể từ khi niêm yết trên HNX kể từ cuối năm 2015, doanh nghiệp này hầu như chia cổ tức bằng tiền mặt đều đặn hàng năm.', 'url': 'https://cafef.vn/mot-cong-ty-chot-tra-co-tuc-tien-mat-cao-nhat-lich-su-ngay-trong-thang-10-188250924224827362.chn', 'content': 'Mới đây,Công ty Cổ phần Trang (mã: TFC)thông báo ngày 1/10/2025 sẽ là ngày đăng ký cuối cùng trả cổ tức bằng tiền mặt 2024 với tỷ lệ 20%/cổ phiếu (1 cổ phiếu được nhận 2.000 đồng). Ngày giao dịch không hưởng quyền là 30/9 và thời gian chi trả dự kiến vào 24/10 tới.\\nVới hơn 16,8 triệu cổ phiếu đang lưu hành, ước tính TFC cần chi khoảng 34 tỷ đồng để thanh toán cổ tức đợt này.\\nTheo tìm hiểu, Công ty cổ phần Trang (TrangCorp) được thành lập vào tháng 7/2004 hoạt động trong ngành thực phẩm với nhà máy sản xuất tại khu công nghiệp Hiệp Phước, TP.HCM. Nhà máy sản xuất của TrangCorp chuyên sản xuất thực phẩm đông lạnh từ thủy sản, phục vụ thị trường xuất khẩu ở châu Âu, châu Mỹ, châu Úc. Ngành nghề kinh doanh là sản xuất chế biến, bảo quản thủy sản và các sản phẩm từ thủy sản; sản xuất các loại bánh từ bột và sản xuất chế món ăn, thức ăn chế biến sẵn.\\nKể từ khi niêm yết trên HNX kể từ cuối năm 2015, TFC hầu như chia cổ tức bằng tiền mặt đều đặn hàng năm, ngoại trừ năm 2016 (chia bằng cổ phiếu) và năm 2021 (không chia cổ tức do ảnh hưởng dịch COVID-19).\\nNăm 2024 đánh dấu mức chi trả bằng tiền kỷ lục của TFC trong bối cảnh kết quả kinh doanh khởi sắc. Cụ thể, doanh thu và lợi nhuận sau thuế của TFC trong năm 2024 ghi nhận 904 tỷ đồng và 162 tỷ đồng, lần lượt tăng trưởng 16% và 211% so với năm trước và đây đều là những con số cao nhất trong lịch sử hoạt động.\\nLũy kế nửa đầu năm 2025, doanh nghiệp ghi nhận hơn 443 tỷ đồng doanh thu thuần và gần 72 tỷ đồng lợi nhuận ròng, tăng lần lượt 55% và gấp 2,3 lần so với cùng kỳ, thực hiện được hơn 40% kế hoạch doanh thu và lợi nhuận cả năm.\\nTrên sàn chứng khoán, cổ phiếu TFC hiện dừng ở mức 67.000 đồng/cp, tương ứng tăng hơn 40% kể từ đầu năm.', 'source': 'cafef'}\n",
      "{'id': '188250925010531406', 'title': 'Lịch sự kiện và tin vắn chứng khoán ngày 25/9/2025', 'time': '25-09-2025 05:00:00', 'summary': 'Tổng hợp toàn bộ tin vắn nổi bật liên quan đến doanh nghiệp niêm yết trên sàn chứng khoán.', 'url': 'https://cafef.vn/lich-su-kien-va-tin-van-chung-khoan-ngay-25-9-2025-188250925010531406.chn', 'content': 'Tin doanh nghiệp\\nDSC -Công ty cổ phần Chứng khoán DSC:Ngày 6/10/2025 là ngày đăng ký cuối cùng để chốt danh sách cổ đông nhận cổ tức năm 2024 bằng cổ phiếu, tỷ lệ thực hiện là 100:17 (Người sở hữu 100 cổ phiếu được nhận 17 cổ phiếu mới).\\nVGV -Tổng công ty tư vấn xây dựng Việt Nam – CTCP:Ngày 8/10/2025 là ngày đăng ký cuối cùng để chốt danh sách cổ đông nhận chi trả cổ tức năm 2024 bằng tiền mặt, tỷ lệ 8% (tương ứng 1 cổ phiếu nhận về 800 đồng). Doanh nghiệp dự kiến thanh toán cổ tức tiền mặt vào ngày 22/10/2025.\\nKHD -Công ty cổ phần Khai thác, Chế biến Khoáng sản Hải Dương: Ngày 14/10/2025 là ngày đăng ký cuối cùng để chốt danh sách cổ đông nhận chi trả cổ tức năm 2024 bằng tiền mặt, tỷ lệ 5% (tương ứng 1 cổ phiếu nhận về 500 đồng). Doanh nghiệp dự kiến thanh toán cổ tức tiền mặt vào ngày 11/11/2025.\\nTLP -Tổng Công ty Thương mại Xuất nhập khẩu Thanh Lễ - CTCP:Ngày 8/10/2025 là ngày đăng ký cuối cùng để chốt danh sách cổ đông nhận cổ tức năm 2024 bằng tiền mặt, tỷ lệ 1,51% (tương ứng 1 cổ phiếu nhận về 151 đồng). Doanh nghiệp dự kiến thanh toán cổ tức tiền mặt vào ngày 23/10/2025.\\nSNZ- Tổng Công ty cổ phần Phát triển khu công nghiệp:Ngày 8/10/2025 là ngày đăng ký cuối cùng để chốt danh sách cổ đông nhận cổ tức năm 2024 bằng tiền mặt, tỷ lệ 13% (tương ứng 1 cổ phiếu nhận về 1.300 đồng). Doanh nghiệp dự kiến thanh toán cổ tức tiền mặt vào ngày 23/10/2025.\\nKết quả giao dịch cổ phiếu của cổ đông\\nCLM -CTCP Xuất nhập khẩu than - Vinacomin: Phó Giám đốc Nguyễn Thùy Dương đã mua 2.200 CP. Số lượng cổ phiếu nắm giữ sau khi thực hiện giao dịch là  6.000 CP (tỷ lệ 0,05%). Giao dịch diễn ra từ 18/08/2025 đến 19/08/2025.\\nL40-CTCP Đầu tư và Xây dựng 40: Ủy viên HĐQT Trần Việt Thắng đã bán ra toàn bộ 5.100 CP, không còn nắm giữ cổ phiếu  sau khi thực hiện giao dịch. Giao dịch diễn ra trong phiên 18/09/2025.\\nGiao dịch cổ phiếu của cổ đông\\nCLM -CTCP Xuất nhập khẩu than - Vinacomin: Phó Giám đốc Nguyễn Thùy Dương đăng ký mua 5.000 CP. Giao dịch dự kiến diễn ra từ ngày 25/9/2025 đến 17/10/2025.\\nECI -CTCP Tập đoàn ECI:Chủ tịch HĐQT Nguyễn Tuấn Nam đăng ký bán 40.100 CP. Giao dịch dự kiến diễn ra từ ngày 25/9/2025 đến 20/10/2025.\\nBVL -CTCP BV Land:Bà Nguyễn Thị Hồng Mai đăng ký bán 115.560 CP. Giao dịch dự kiến diễn ra từ ngày từ 26/09/2025 đến 24/10/2025.', 'source': 'cafef'}\n"
     ]
    }
   ],
   "source": [
    "import requests\n",
    "from bs4 import BeautifulSoup\n",
    "from datetime import datetime, timedelta\n",
    "import re\n",
    "\n",
    "BASE_URL = \"https://cafef.vn\"\n",
    "TIMEZONE_OFFSET = 7  # UTC+7 cho giờ Việt Nam\n",
    "\n",
    "\n",
    "def normalize_time(time_tag) -> str:\n",
    "    \"\"\"Chuẩn hóa thời gian về format dd-mm-YYYY HH:MM:SS (UTC+7).\"\"\"\n",
    "    if not time_tag:\n",
    "        return \"\"\n",
    "\n",
    "    # Nếu có attribute title sẵn ISO (ví dụ: 2025-09-25T08:27:00)\n",
    "    if time_tag.has_attr(\"title\"):\n",
    "        try:\n",
    "            dt = datetime.fromisoformat(time_tag[\"title\"])\n",
    "            return dt.strftime(\"%d-%m-%Y %H:%M:%S\")\n",
    "        except Exception:\n",
    "            return time_tag[\"title\"]\n",
    "\n",
    "    # Nếu chỉ có text: \"1 giờ trước\", \"5 phút trước\", \"2 ngày trước\"\n",
    "    text = time_tag.get_text(strip=True).lower()\n",
    "    now = datetime.utcnow() + timedelta(hours=TIMEZONE_OFFSET)\n",
    "\n",
    "    num = int(re.search(r\"\\d+\", text).group()) if re.search(r\"\\d+\", text) else 0\n",
    "\n",
    "    if \"phút\" in text:\n",
    "        dt = now - timedelta(minutes=num)\n",
    "    elif \"giờ\" in text:\n",
    "        dt = now - timedelta(hours=num)\n",
    "    elif \"ngày\" in text:\n",
    "        dt = now - timedelta(days=num)\n",
    "    else:\n",
    "        dt = now\n",
    "\n",
    "    return dt.strftime(\"%d-%m-%Y %H:%M:%S\")\n",
    "\n",
    "\n",
    "def get_article_content(link: str) -> str:\n",
    "    \"\"\"Lấy nội dung chi tiết của 1 bài viết.\"\"\"\n",
    "    try:\n",
    "        resp = requests.get(link, timeout=10)\n",
    "        resp.encoding = \"utf-8\"\n",
    "    except Exception as e:\n",
    "        print(f\"[Crawler] Lỗi khi request {link}: {e}\")\n",
    "        return \"\"\n",
    "\n",
    "    if resp.status_code != 200:\n",
    "        print(f\"[Crawler] Lỗi {resp.status_code} khi truy cập {link}\")\n",
    "        return \"\"\n",
    "\n",
    "    soup = BeautifulSoup(resp.text, \"html.parser\")\n",
    "    content_div = soup.select_one(\"div.detail-content\")\n",
    "    if not content_div:\n",
    "        return \"\"\n",
    "\n",
    "    paragraphs = [\n",
    "        p.get_text(strip=True)\n",
    "        for p in content_div.find_all(\"p\")\n",
    "        if p.get_text(strip=True)\n",
    "    ]\n",
    "    return \"\\n\".join(paragraphs)\n",
    "\n",
    "\n",
    "def crawl_cafef_stock(max_pages: int = 1):\n",
    "    \"\"\"Crawl tin tức Thị trường chứng khoán trên CafeF.\"\"\"\n",
    "    articles = []\n",
    "    for page in range(1, max_pages + 1):\n",
    "        url = (\n",
    "            f\"{BASE_URL}/thi-truong-chung-khoan.chn\"\n",
    "            if page == 1\n",
    "            else f\"{BASE_URL}/thi-truong-chung-khoan/trang-{page}.chn\"\n",
    "        )\n",
    "\n",
    "        try:\n",
    "            resp = requests.get(url, timeout=10)\n",
    "            resp.encoding = \"utf-8\"\n",
    "        except Exception as e:\n",
    "            print(f\"[Crawler] Lỗi khi request {url}: {e}\")\n",
    "            continue\n",
    "\n",
    "        if resp.status_code != 200:\n",
    "            print(f\"[Crawler] Lỗi {resp.status_code} khi truy cập {url}\")\n",
    "            continue\n",
    "\n",
    "        soup = BeautifulSoup(resp.text, \"html.parser\")\n",
    "        items = soup.select(\"div.tlitem.box-category-item\")\n",
    "\n",
    "        for item in items:\n",
    "            link_tag = item.select_one(\"h3 > a\")\n",
    "            if not link_tag:\n",
    "                continue\n",
    "\n",
    "            href = link_tag.get(\"href\", \"\")\n",
    "            title = link_tag.get(\"title\") or link_tag.text.strip()\n",
    "            link = BASE_URL + href if href.startswith(\"/\") else href\n",
    "            article_id = item.get(\"data-id\") or href.split(\"-\")[-1].replace(\".chn\", \"\")\n",
    "\n",
    "            summary_tag = item.select_one(\"p.sapo\") or item.select_one(\"p.box-category-sapo\")\n",
    "            summary = summary_tag.get_text(strip=True) if summary_tag else \"\"\n",
    "\n",
    "            time_tag = item.select_one(\"span.time\")\n",
    "            time_text = normalize_time(time_tag)\n",
    "\n",
    "            # Nội dung chi tiết\n",
    "            full_content = get_article_content(link)\n",
    "\n",
    "            articles.append({\n",
    "                \"id\": article_id,\n",
    "                \"title\": title,\n",
    "                \"time\": time_text,\n",
    "                \"summary\": summary,\n",
    "                \"url\": link,\n",
    "                \"content\": full_content,\n",
    "                \"source\": \"cafef\"\n",
    "            })\n",
    "\n",
    "    print(f\"[Crawler] Crawled {len(articles)} articles\")\n",
    "    return articles\n",
    "\n",
    "\n",
    "if __name__ == \"__main__\":\n",
    "    data = crawl_cafef_stock(max_pages=1)\n",
    "    for item in data[:3]:\n",
    "        print(item)\n"
   ]
  },
  {
   "cell_type": "code",
   "execution_count": null,
   "id": "658e5258",
   "metadata": {},
   "outputs": [],
   "source": [
    "if __name__ == \"__main__\":\n",
    "    from crawler import crawl_cafef_stock  # import crawler vừa viết\n",
    "\n",
    "    # Crawl 1 trang\n",
    "    articles = crawl_cafef_stock(max_pages=1)\n",
    "\n",
    "    # Preprocess\n",
    "    docs = preprocess_articles(articles, max_words=200)\n",
    "\n",
    "    print(f\"✅ Chuẩn bị {len(docs)} docs sau preprocess\")\n",
    "    for d in docs[:3]:\n",
    "        print(d)\n"
   ]
  },
  {
   "cell_type": "code",
   "execution_count": 17,
   "id": "78ddfd63",
   "metadata": {},
   "outputs": [
    {
     "name": "stdout",
     "output_type": "stream",
     "text": [
      "Collection 'collection' có 12 vector (lấy tối đa 100):\n",
      "ID: 86651, payload: {'source': 'app'}, vector length: 0\n",
      "ID: 175468, payload: {'source': 'app'}, vector length: 0\n",
      "ID: 190315, payload: {'source': 'app'}, vector length: 0\n",
      "ID: 236817, payload: {'source': 'app'}, vector length: 0\n",
      "ID: 318901, payload: {'source': 'app'}, vector length: 0\n",
      "ID: 351531, payload: {'source': 'app'}, vector length: 0\n",
      "ID: 462858, payload: {'source': 'app'}, vector length: 0\n",
      "ID: 534956, payload: {'source': 'app'}, vector length: 0\n",
      "ID: 586207, payload: {'source': 'app'}, vector length: 0\n",
      "ID: 603741, payload: {'source': 'app'}, vector length: 0\n",
      "ID: 798773, payload: {'source': 'app'}, vector length: 0\n",
      "ID: 845293, payload: {'source': 'app'}, vector length: 0\n"
     ]
    }
   ],
   "source": [
    "from qdrant_client import QdrantClient\n",
    "\n",
    "def list_vectors_in_qdrant(collection_name: str = \"my_collection\", host: str = \"localhost\", port: int = 6333, limit: int = 100):\n",
    "    \"\"\"\n",
    "    Liệt kê tất cả vectors trong collection và in ID + payload + độ dài vector.\n",
    "    \"\"\"\n",
    "    client = QdrantClient(host=host, port=port)\n",
    "\n",
    "    try:\n",
    "        points, next_page = client.scroll(\n",
    "            collection_name=collection_name,\n",
    "            limit=limit\n",
    "        )\n",
    "\n",
    "        if not points:\n",
    "            print(f\"Collection '{collection_name}' hiện chưa có vector nào.\")\n",
    "        else:\n",
    "            print(f\"Collection '{collection_name}' có {len(points)} vector (lấy tối đa {limit}):\")\n",
    "            for point in points:\n",
    "                print(f\"ID: {point.id}, payload: {point.payload}, vector length: {len(point.vector) if point.vector else 0}\")\n",
    "\n",
    "            # nếu còn next_page thì nghĩa là collection còn nhiều vector nữa\n",
    "            if next_page:\n",
    "                print(\"⚠️ Collection còn vector khác, hãy tăng limit hoặc tiếp tục scroll với offset.\")\n",
    "    except Exception as e:\n",
    "        print(\"Lỗi khi truy vấn Qdrant:\", e)\n",
    "\n",
    "# Test\n",
    "list_vectors_in_qdrant(collection_name=\"collection\")\n"
   ]
  },
  {
   "cell_type": "code",
   "execution_count": 1,
   "id": "d4a80527",
   "metadata": {},
   "outputs": [
    {
     "name": "stdout",
     "output_type": "stream",
     "text": [
      "<!DOCTYPE html>\n",
      "<html lang=\"vi\">\n",
      "<head>\n",
      "    <meta http-equiv=\"Content-Type\" content=\"text/html; charset=utf-8\" />\n",
      "    <title>Xem nhanh tin mới cập nhật</title>\n",
      "    <meta name=\"description\" content=\"Xem nhanh các tin mới cập nhật trên CafeF.vn\">\n",
      "    <meta name=\"keywords\" content=\"thị trường,chứng khoán, cập nhật ,nhà đầu tư,đầu đủ, lịch sự kiện,tin tuc chung khoan, tin chứng khoán, chỉ số HNX index, sàn hà nội, sàn sài gòn, hose, thông tin thị trường chứng khoán, lịch sự kiện, chứng khoán việt nam, tin chứng khoán việt nam, hose,vn index, tin vnindex\">\n",
      "    <meta name=\"news_keywords\" content=\"thị trường,chứng khoán, cập nhật ,nhà đầu tư,đầu đủ, lịch sự kiện,tin tuc chung khoan, tin chứng khoán, chỉ số HNX index, sàn hà nội, sàn sài gòn, hose, thông tin thị trường chứng khoán, lịch sự kiện, chứng khoán việt nam, tin chứng khoán việt nam, hose,vn index, tin vnindex\">\n",
      "    <meta property=\"og:title\" content=\"\">\n",
      "    <meta property=\"og:description\" content=\"Xem nhanh các tin mới cập nhật trên C\n"
     ]
    }
   ],
   "source": [
    "import requests\n",
    "r = requests.get(\"https://cafef.vn/doc-nhanh.chn\", headers={\"User-Agent\": \"Mozilla/5.0\"})\n",
    "print(r.text[:1000])\n"
   ]
  },
  {
   "cell_type": "code",
   "execution_count": null,
   "id": "53c92ef1",
   "metadata": {},
   "outputs": [],
   "source": [
    "from modules.utils.qdrant_utils import add_doc, update_doc, delete_doc, get_doc, search_hybrid\n",
    "\n",
    "# Thêm tài liệu\n",
    "pid = add_doc(\n",
    "    collection_name=\"test_hybrid\",\n",
    "    payload={\"title\": \"Python\", \"content\": \"Python là ngôn ngữ lập trình.\"}\n",
    ")\n",
    "\n",
    "# Cập nhật payload\n",
    "update_doc(\"test_hybrid\", pid, {\"category\": \"programming\"})\n",
    "\n",
    "# Lấy payload\n",
    "print(get_doc(\"test_hybrid\", pid))\n",
    "\n",
    "# Hybrid search\n",
    "print(search_hybrid(\"test_hybrid\", [0.1] * 384, \"ngôn ngữ lập trình Python\"))\n",
    "\n",
    "# Xóa document\n",
    "delete_doc(\"test_hybrid\", pid)\n"
   ]
  },
  {
   "cell_type": "code",
   "execution_count": 3,
   "id": "11e324af",
   "metadata": {},
   "outputs": [
    {
     "name": "stdout",
     "output_type": "stream",
     "text": [
      "status=<CollectionStatus.GREEN: 'green'> optimizer_status=<OptimizersStatusOneOf.OK: 'ok'> vectors_count=None indexed_vectors_count=0 points_count=1 segments_count=6 config=CollectionConfig(params=CollectionParams(vectors={'binary': VectorParams(size=384, distance=<Distance.DOT: 'Dot'>, hnsw_config=None, quantization_config=None, on_disk=True, datatype=None, multivector_config=None), 'dense_vector': VectorParams(size=384, distance=<Distance.COSINE: 'Cosine'>, hnsw_config=None, quantization_config=None, on_disk=None, datatype=None, multivector_config=None)}, shard_number=1, sharding_method=None, replication_factor=1, write_consistency_factor=1, read_fan_out_factor=None, on_disk_payload=True, sparse_vectors={'sparse_vector': SparseVectorParams(index=None, modifier=None)}), hnsw_config=HnswConfig(m=16, ef_construct=100, full_scan_threshold=10000, max_indexing_threads=0, on_disk=False, payload_m=None), optimizer_config=OptimizersConfig(deleted_threshold=0.2, vacuum_min_vector_number=1000, default_segment_number=0, max_segment_size=None, memmap_threshold=None, indexing_threshold=10000, flush_interval_sec=5, max_optimization_threads=None), wal_config=WalConfig(wal_capacity_mb=32, wal_segments_ahead=0), quantization_config=None, strict_mode_config=StrictModeConfigOutput(enabled=False, max_query_limit=None, max_timeout=None, unindexed_filtering_retrieve=None, unindexed_filtering_update=None, search_max_hnsw_ef=None, search_allow_exact=None, search_max_oversampling=None, upsert_max_batchsize=None, max_collection_vector_size_bytes=None, read_rate_limit=None, write_rate_limit=None, max_collection_payload_size_bytes=None, max_points_count=None, filter_max_conditions=None, condition_max_size=None, multivector_config=None, sparse_config=None)) payload_schema={}\n"
     ]
    }
   ],
   "source": [
    "from modules.utils.services import qdrant_services\n",
    "print(qdrant_services.client.get_collection(\"test_hybrid\"))\n"
   ]
  },
  {
   "cell_type": "code",
   "execution_count": 2,
   "id": "007d4d6c",
   "metadata": {},
   "outputs": [
    {
     "name": "stdout",
     "output_type": "stream",
     "text": [
      "{'title': 'Python', 'content': 'Python là ngôn ngữ lập trình.'}\n",
      "[{'id': '721c345a-5277-4da4-8b8c-c4eefdb02824', 'score': 1.0, 'payload': {'title': 'Python', 'content': 'Python là ngôn ngữ lập trình.'}}]\n"
     ]
    }
   ],
   "source": [
    "from modules.utils.qdrant_utils import add_doc, get_doc, search_hybrid, delete_doc\n",
    "from modules.utils.services import embedder_services\n",
    "corpus = [\n",
    "    \"Python là ngôn ngữ lập trình.\",\n",
    "    \"Ngôn ngữ C++ hiệu suất cao.\",\n",
    "    \"Java phổ biến cho ứng dụng doanh nghiệp.\"\n",
    "]\n",
    "embedder_services.fit_bm25(corpus)\n",
    "pid = add_doc(\"test_hybrid\", [0.1]*384, None, {\"title\": \"Python\", \"content\": \"Python là ngôn ngữ lập trình.\"})\n",
    "print(get_doc(\"test_hybrid\", pid))\n",
    "print(search_hybrid(\"test_hybrid\", \"ngôn ngữ lập trình Python\"))\n",
    "# delete_doc(\"test_hybrid\", pid)\n"
   ]
  },
  {
   "cell_type": "code",
   "execution_count": 4,
   "id": "f7d7b771",
   "metadata": {},
   "outputs": [
    {
     "name": "stdout",
     "output_type": "stream",
     "text": [
      "c:\\Users\\admin\\AppData\\Local\\Programs\\Python\\Python311\\Lib\\site-packages\\rank_bm25.py\n"
     ]
    }
   ],
   "source": [
    "import rank_bm25\n",
    "print(rank_bm25.__file__)\n"
   ]
  },
  {
   "cell_type": "code",
   "execution_count": 3,
   "id": "f29c74cf",
   "metadata": {},
   "outputs": [
    {
     "name": "stdout",
     "output_type": "stream",
     "text": [
      "c:\\Users\\admin\\AppData\\Local\\Programs\\Python\\Python311\\python.exe\n",
      "Collecting rank-bm25\n",
      "  Using cached rank_bm25-0.2.2-py3-none-any.whl.metadata (3.2 kB)\n",
      "Requirement already satisfied: numpy in c:\\users\\admin\\appdata\\local\\programs\\python\\python311\\lib\\site-packages (from rank-bm25) (1.26.4)\n",
      "Using cached rank_bm25-0.2.2-py3-none-any.whl (8.6 kB)\n",
      "Installing collected packages: rank-bm25\n",
      "Successfully installed rank-bm25-0.2.2\n"
     ]
    }
   ],
   "source": [
    "import sys\n",
    "print(sys.executable)  # đường dẫn python đang chạy\n",
    "!{sys.executable} -m pip install rank-bm25\n"
   ]
  }
 ],
 "metadata": {
  "kernelspec": {
   "display_name": "Python 3",
   "language": "python",
   "name": "python3"
  },
  "language_info": {
   "codemirror_mode": {
    "name": "ipython",
    "version": 3
   },
   "file_extension": ".py",
   "mimetype": "text/x-python",
   "name": "python",
   "nbconvert_exporter": "python",
   "pygments_lexer": "ipython3",
   "version": "3.11.9"
  }
 },
 "nbformat": 4,
 "nbformat_minor": 5
}
