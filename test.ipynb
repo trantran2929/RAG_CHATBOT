{
 "cells": [
  {
   "cell_type": "code",
   "execution_count": 1,
   "id": "cf264705",
   "metadata": {},
   "outputs": [
    {
     "name": "stdout",
     "output_type": "stream",
     "text": [
      "collections=[CollectionDescription(name='rag_knowledge'), CollectionDescription(name='chat_history')]\n",
      "status=<CollectionStatus.GREEN: 'green'> optimizer_status=<OptimizersStatusOneOf.OK: 'ok'> vectors_count=None indexed_vectors_count=0 points_count=2 segments_count=6 config=CollectionConfig(params=CollectionParams(vectors=VectorParams(size=384, distance=<Distance.COSINE: 'Cosine'>, hnsw_config=None, quantization_config=None, on_disk=None, datatype=None, multivector_config=None), shard_number=1, sharding_method=None, replication_factor=1, write_consistency_factor=1, read_fan_out_factor=None, on_disk_payload=True, sparse_vectors=None), hnsw_config=HnswConfig(m=16, ef_construct=100, full_scan_threshold=10000, max_indexing_threads=0, on_disk=False, payload_m=None), optimizer_config=OptimizersConfig(deleted_threshold=0.2, vacuum_min_vector_number=1000, default_segment_number=0, max_segment_size=None, memmap_threshold=None, indexing_threshold=10000, flush_interval_sec=5, max_optimization_threads=None), wal_config=WalConfig(wal_capacity_mb=32, wal_segments_ahead=0), quantization_config=None, strict_mode_config=StrictModeConfigOutput(enabled=False, max_query_limit=None, max_timeout=None, unindexed_filtering_retrieve=None, unindexed_filtering_update=None, search_max_hnsw_ef=None, search_allow_exact=None, search_max_oversampling=None, upsert_max_batchsize=None, max_collection_vector_size_bytes=None, read_rate_limit=None, write_rate_limit=None, max_collection_payload_size_bytes=None, max_points_count=None, filter_max_conditions=None, condition_max_size=None, multivector_config=None, sparse_config=None)) payload_schema={}\n"
     ]
    }
   ],
   "source": [
    "from qdrant_client import QdrantClient\n",
    "\n",
    "client = QdrantClient(host=\"localhost\", port=6333)\n",
    "\n",
    "# List collections\n",
    "print(client.get_collections())\n",
    "\n",
    "# Check info collection\n",
    "info = client.get_collection(\"chat_history\")\n",
    "print(info)\n"
   ]
  },
  {
   "cell_type": "code",
   "execution_count": 5,
   "id": "147b79fa",
   "metadata": {},
   "outputs": [
    {
     "name": "stdout",
     "output_type": "stream",
     "text": [
      "Found 1 collections:\n",
      "\n",
      "========================================\n",
      "Collection name: collection\n",
      "Points count: 0\n",
      "Vector config: size=384, distance=Cosine\n",
      "Sample points (up to 10):\n"
     ]
    }
   ],
   "source": [
    "from qdrant_client import QdrantClient\n",
    "from pprint import pprint\n",
    "\n",
    "client = QdrantClient(host=\"localhost\", port=6333)\n",
    "\n",
    "def inspect_qdrant():\n",
    "    collections = client.get_collections().collections\n",
    "    print(f\"Found {len(collections)} collections:\")\n",
    "    \n",
    "    for col in collections:\n",
    "        print(\"\\n\" + \"=\"*40)\n",
    "        print(f\"Collection name: {col.name}\")\n",
    "        try:\n",
    "            info = client.get_collection(col.name)\n",
    "            print(f\"Points count: {info.points_count}\")\n",
    "            vectors = info.config.params.vectors\n",
    "            if isinstance(vectors, dict):\n",
    "                print(\"Vector names & sizes:\")\n",
    "                for name, vcfg in vectors.items():\n",
    "                    print(f\"  - {name}: size={vcfg.size}, distance={vcfg.distance}\")\n",
    "            else:\n",
    "                print(f\"Vector config: size={vectors.size}, distance={vectors.distance}\")\n",
    "        except Exception as e:\n",
    "            print(\"Could not fetch collection info:\", e)\n",
    "        \n",
    "        print(\"Sample points (up to 10):\")\n",
    "        try:\n",
    "            resp, _ = client.scroll(col.name, limit=10, with_payload=True)\n",
    "            points = getattr(resp, \"result\", resp)\n",
    "            for p in points:\n",
    "                vector_names = list(p.vector.keys()) if isinstance(p.vector, dict) else [\"default\"]\n",
    "                print(f\"  id={p.id}, vector_names={vector_names}, payload={p.payload}\")\n",
    "        except Exception as e:\n",
    "            print(\"Could not fetch points:\", e)\n",
    "\n",
    "if __name__ == \"__main__\":\n",
    "    inspect_qdrant()\n"
   ]
  },
  {
   "cell_type": "code",
   "execution_count": 19,
   "id": "898fe3a0",
   "metadata": {},
   "outputs": [
    {
     "name": "stdout",
     "output_type": "stream",
     "text": [
      "Tổng số vector: None\n"
     ]
    }
   ],
   "source": [
    "from qdrant_client import QdrantClient\n",
    "\n",
    "# Kết nối Qdrant (ví dụ chạy local)\n",
    "client = QdrantClient(\"http://localhost:6333\")\n",
    "\n",
    "collection_name = \"collection\"\n",
    "\n",
    "# Lấy thông tin collection\n",
    "info = client.get_collection(collection_name)\n",
    "print(\"Tổng số vector:\", info.vectors_count)\n"
   ]
  },
  {
   "cell_type": "code",
   "execution_count": 7,
   "id": "e2c803cf",
   "metadata": {},
   "outputs": [
    {
     "name": "stdout",
     "output_type": "stream",
     "text": [
      "Kết quả tìm được: []\n"
     ]
    },
    {
     "name": "stderr",
     "output_type": "stream",
     "text": [
      "C:\\Users\\admin\\AppData\\Local\\Temp\\ipykernel_14208\\2745754574.py:6: DeprecationWarning: `search` method is deprecated and will be removed in the future. Use `query_points` instead.\n",
      "  result = client.search(\n"
     ]
    }
   ],
   "source": [
    "import numpy as np\n",
    "\n",
    "# Giả sử bạn có embedding vector test \n",
    "dummy_vector = np.random.rand(384).tolist()\n",
    "\n",
    "result = client.search(\n",
    "    collection_name=collection_name,\n",
    "    query_vector=dummy_vector,\n",
    "    limit=3\n",
    ")\n",
    "\n",
    "print(\"Kết quả tìm được:\", result)\n"
   ]
  },
  {
   "cell_type": "code",
   "execution_count": 2,
   "id": "cafb2401",
   "metadata": {},
   "outputs": [
    {
     "name": "stdout",
     "output_type": "stream",
     "text": [
      "📂 Danh sách collections trong Qdrant:\n",
      " - collection: 0 vectors\n"
     ]
    }
   ],
   "source": [
    "import qdrant_client\n",
    "\n",
    "def check_collections():\n",
    "    client = qdrant_client.QdrantClient(host=\"localhost\", port=6333)\n",
    "\n",
    "    collections = client.get_collections()\n",
    "    print(\"📂 Danh sách collections trong Qdrant:\")\n",
    "    for coll in collections.collections:\n",
    "        name = coll.name\n",
    "\n",
    "        # Dùng count để chắc chắn có số vector\n",
    "        count = client.count(collection_name=name, exact=True).count\n",
    "        print(f\" - {name}: {count} vectors\")\n",
    "\n",
    "    if not collections.collections:\n",
    "        print(\"⚠️ Không có collection nào trong Qdrant (rỗng).\")\n",
    "\n",
    "if __name__ == \"__main__\":\n",
    "    check_collections()\n"
   ]
  },
  {
   "cell_type": "code",
   "execution_count": 14,
   "id": "24e26cbe",
   "metadata": {},
   "outputs": [
    {
     "name": "stdout",
     "output_type": "stream",
     "text": [
      "collections=[CollectionDescription(name='collection')]\n",
      "count=1\n",
      "([Record(id=351531, payload={'source': 'app'}, vector=None, shard_key=None, order_value=None)], None)\n"
     ]
    }
   ],
   "source": [
    "from qdrant_client import QdrantClient\n",
    "\n",
    "client = QdrantClient(\"http://localhost:6333\")\n",
    "\n",
    "# Xem các collection hiện có\n",
    "print(client.get_collections())\n",
    "\n",
    "# Nếu có collection \"documents\", xem thử số lượng points\n",
    "print(client.count(collection_name=\"collection\", exact=True))\n",
    "\n",
    "# Lấy vài point mẫu\n",
    "points = client.scroll(collection_name=\"collection\", limit=5)\n",
    "print(points)\n"
   ]
  },
  {
   "cell_type": "code",
   "execution_count": 5,
   "id": "c11b90b1",
   "metadata": {},
   "outputs": [
    {
     "name": "stdout",
     "output_type": "stream",
     "text": [
      "{'id': '188250923075226457', 'title': 'Vụ khách hàng kiện công ty bảo hiểm Manulife: Tòa không chấp nhận toàn bộ yêu cầu khởi kiện của nguyên đơn', 'time': '(23/09/2025 08:03)', 'summary': 'Toà cho rằng việc khách hàng khởi kiện Manulife với cáo buộc \"lừa dối trong việc giao kết hợp đồng bảo hiểm\" là không có căn cứ.', 'link': 'https://cafef.vn/vu-khach-hang-kien-cong-ty-bao-hiem-manulife-toa-khong-chap-nhan-toan-bo-yeu-cau-khoi-kien-cua-nguyen-don-188250923075226457.chn', 'content': 'Ngày 22/9, Tòa án nhân dân Khu vực 5 - Thành phố Hồ Chí Minh mở phiên tòa xét xử vụ kiện giữa bà Đ.P.D.L với công ty TNHH Manulife (Việt Nam), liên quan đến tranh chấp hợp đồng bảo hiểm nhân thọ. Bà L. ủy quyền cho luật sư tham gia phiên tòa.\\nTheo đơn khởi kiện, bà L. cho rằng đã được nhân viên ngân hàng SCB giới thiệu tham gia chương trình tiết kiệm đầu tư lãi suất cao có kèm bảo hiểm miễn phí. Khi làm hồ sơ tham gia chương trình, bà L. được biết đây là hợp đồng bảo hiểm nhân thọ. Bà L. cho rằng có nhiều vấn đề sai quy định pháp luật và đề nghị tòa tuyên hợp đồng vô hiệu. Bà L. đã đóng tiền được 3 kỳ phí cho công ty Manulife.\\nTrình bày tại tòa, đại diện Manulife cho biết quy trình tư vấn và ký kết đều tuân thủ đúng quy định pháp luật cũng như quy trình nội bộ của công ty. Phía Manulife cũng nộp cho tòa các tài liệu liên quan đến bộ hồ sơ yêu cầu bảo hiểm được ký bởi bà L., điều khoản sản phẩm bảo hiểm, các tài liệu giao dịch thể hiện việc bà L. đóng phí bảo hiểm qua các năm và những giao dịch khác trong quá trình bà tham gia hợp đồng bảo hiểm. Theo công ty, đây là những chứng cứ thể hiện rõ ý chí và nguyện vọng tham gia bảo hiểm của bà L.\\nTrong phần thẩm tra của hội đồng xét xử, luật sư phía bà L. tiếp tục cho rằng hợp đồng giao kết giữa bà L. và Manulife có nhiều điểm vi phạm quy định của pháp luật. Theo đại diện phía công ty bảo hiểm, các điều khoản và nội dung trong hợp đồng bảo hiểm đã được Bộ Tài chính phê chuẩn và phù hợp với các quy định của luật kinh doanh bảo hiểm. Đồng thời, bà L có đủ 21 ngày cân nhắc các điều kiện điều khoản của hợp đồng và bà đã ký tên trên đơn xác nhận về việc hiểu rõ đầy đủ quyền và lợi ích khi tham gia hợp đồng bảo hiểm. Đại diện Manulife khẳng định đã thực hiện đúng và đầy đủ các quy định cũng như các yêu cầu về thủ tục tham gia hợp đồng bảo hiểm của pháp luật và cơ quan quản lý.\\nSau khi xem xét toàn bộ hồ sơ và tranh luận tại phiên tòa, Hội đồng xét xử nhận định không có căn cứ để xác định hợp đồng bảo hiểm vô hiệu. Các bên đều có năng lực hành vi dân sự đầy đủ, đồng thời quá trình giao kết đã diễn ra trên cơ sở tự nguyện và phù hợp với ý chí giao kết của các bên.\\nVì vậy, tòa tuyên không chấp nhận toàn bộ yêu cầu khởi kiện của bà L., giữ nguyên hiệu lực hợp đồng bảo hiểm đã ký giữa các bên.'}\n",
      "{'id': '188250923065121749', 'title': 'Vừa về đại lý bản đời mới của xe ga Honda đẹp như Vespa: 1 lít xăng đi 45km, có phanh \"chống\" đường trơn', 'time': '(23/09/2025 08:02)', 'summary': 'Phiên bản đời mới của mẫu xe tay ga Honda này có màu sắc cực đẹp.', 'link': 'https://cafef.vn/vua-ve-dai-ly-ban-doi-moi-cua-xe-ga-honda-dep-nhu-vespa-1-lit-xang-di-45km-co-phanh-chong-duong-tron-188250923065121749.chn', 'content': 'Mới đây, một đơn vị chuyên nhập khẩu và phân phối xe máy tại Việt Nam đã thông báo đưa về nước phiên bản đời mới của mẫu xe tay ga Honda Stylo 160. Phiên bản đời mới về cơ bản không thay đổi ở mặt kỹ thuật, chỉ bổ sung thêm màu Royal Matte Blue (Xanh dương mờ hoàng gia).\\nTheo giới thiệu, Honda Stylo 160 được đơn vị này nhập khẩu nguyên chiếc từ Indonesia. Mẫu xe này được thiết kế với kiểu dáng và phong cách gợi nhớ tới các mẫu xe tay ga châu Âu; Honda cũng định vị mẫu xe này ở phân khúc cao cấp.\\nHonda Stylo 160 phiên bản đời mới bổ sung màu Royal Matte Blue.\\nỞ phiên bản đời trước, đơn vị nhập khẩu báo giá của xe dao động từ 69,9 triệu đồng đến 76 triệu đồng - tùy phiên bản. Với phiên bản đời mới, đơn vị này chưa công bố mức giá cụ thể, song có thể sẽ không quá chênh lệch.\\nVới việc bổ sung một phiên bản màu mới là Royal Matte Blue, Honda Stylo 160 vẫn giữ nguyên 6 phiên bản màu trước đó, gồm Royal Matte Black (đen nhám hoàng gia), Royal Grene (xanh lục hoàng gia), Royal Matte White (trắng ngọc trai hoàng gia), Glam Black (đen bóng), Glam Beige (be bóng), và Glam Red (đỏ bóng).\\nẢnh thật Honda Stylo bản đời mới tại Việt Nam. Ảnh: Minh Long Moto\\nNgoài bộ màu sắc đậm tính thời trang và cá tính, thiết kế của Honda Stylo 160 cũng là điểm nhấn khó bỏ qua. Trong khi yếm xe mang một chút phong cách châu Âu, Honda đã phá cách với cụm chi tiết nằm ngang gồm đèn, khe gió giả. Cụm chi tiết này đồng bộ với phong cách thiết kế đèn hậu đặt theo chiều ngang, mang đến thiết kế liền mạch, đồng nhất.\\nỞ cụm đèn pha, có thể thấy rằng Honda tạo hình lục lăng bo tròn. Trong khi hình lục lăng với các cạnh sắc nhọn mang đến vẻ thể thao, các nét bo tròn khiến thiết kế mềm mại hơn, đồng thời gợi nhớ đến kiểu đèn tròn cổ điển.\\nSườn xe cũng có một chi tiết được xem là nét phá cách, đó là chi tiết nối liền từ sàn để chân, tạo hình giả khe hút gió. Tuy nhiên, nếu nhìn từ bên hông, có thể thấy ý đồ rõ hơn của nhà thiết kế, đó là làm đối trọng với baga sau, khiến xe trông cân đối hơn.\\nẢnh: Minh Long Moto\\nHonda Stylo 160 được bán với hai phiên bản, khác nhau cơ bản ở màu sắc và trang bị an toàn. Phiên bản cao cấp hơn đều có màu sơn nhám và trang bị phanh ABS ở bánh trước, phiên bản thông thường có màu sơn bóng và chỉ có phanh CBS.\\nPhiên bản Royal Matte Blue có màu nhám, cũng nằm trong nhóm cao cấp hơn, được trang bị phanh ABS.\\nPhanh CBS có tên đầy đủ là Combined Brake System, là hệ thống phanh phân phối lực đến cả bánh trước và bánh sau; phanh ABS là Anti-lock Braking System, là hệ thống chống hiện tượng bánh xe bị khóa cứng do lực phanh quá mạnh. Phanh ABS đặc biệt hữu dụng khi di chuyển trên các đoạn đường trơn trượt, như khi trời mưa hay trên đường có đá dăm, sỏi cát vụn.\\nẢnh: Minh Long Moto\\nĐúng như tên gọi, Honda Stylo sử dụng động cơ có dung tích khoảng 160 cc, cho công suất 15,5 mã lực và mô men xoắn 13,8 Nm. Điều thú vị là các thông số khác của động cơ như tỷ số nén, đường kính và hành trình piston tương tự như động cơ của Honda Vario 160 đang bán tại Việt Nam. Nếu hai mẫu xe sử dụng chung động cơ, người tiêu dùng sẽ yên tâm hơn ở phần sửa chữa.\\nTheo thông tin được công bố, Honda Stylo 160 có mức tiêu thụ nhiên liệu khoảng 45km/lít xăng, tương đương khoảng 2,22L/100km. Đây là con số bình thường trong phân khúc xe tay ga phổ thông tại Việt Nam.\\nDung tích cốp dưới yên chỉ 16,5 lít, khá nhỏ so với nhiều mẫu xe đang bán tại Việt Nam.\\nCác phiên bản của xe đều trang bị đèn LED toàn bộ, màn hình điện tử, khóa thông minh Smartkey, phanh đĩa ở cả bánh trước và bánh sau.\\nVề mặt tiện nghi, Honda Stylo 160 có cốp chứa đồ chính dưới yên có dung tích 16,5 lít - tương đối nhỏ so với các mẫu xe tay ga khác cùng của Honda đang bán chính hãng tại Việt Nam. Bù lại, Honda Stylo 160 có 2 hộc để đồ phía trước, gồm một hộc nhỏ ở bên trái và một hộc lớn có nắp đậy nằm ở gần sàn xe, tích hợp cổng sạc điện thoại.\\nSong, xe có một chi tiết có thể hơi bất tiện là bình xăng nằm dưới yên; khi đổ xăng cần mở nắp yên. Bình xăng này dường như cũng khiến cốp xe nhỏ hơn.\\nMột điều thú vị là do quy định tại Indonesia yêu cầu xe máy phải có biển số ở phía trước, các xe nhập từ Indonesia về Việt Nam cũng được trang bị giá gắn biển số. Hiện không rõ đơn vị phân phối có hỗ trợ tháo bộ phận này hay không.'}\n"
     ]
    }
   ],
   "source": [
    "import requests\n",
    "from bs4 import BeautifulSoup\n",
    "\n",
    "BASE_URL = \"https://cafef.vn\"\n",
    "\n",
    "\n",
    "def get_url(page: int) -> str:\n",
    "    return f\"{BASE_URL}/doc-nhanh.chn\" if page == 1 else f\"{BASE_URL}/doc-nhanh/trang-{page}.chn\"\n",
    "\n",
    "\n",
    "def get_article_content(link: str) -> str:\n",
    "    \"\"\"Vào trang chi tiết và lấy toàn bộ nội dung\"\"\"\n",
    "    resp = requests.get(link, timeout=10)\n",
    "    resp.encoding = \"utf-8\"\n",
    "    soup = BeautifulSoup(resp.text, \"html.parser\")\n",
    "\n",
    "    content_div = soup.select_one(\"div.detail-content\")\n",
    "    if not content_div:\n",
    "        return \"\"\n",
    "\n",
    "    # Ghép các đoạn văn lại\n",
    "    paragraphs = [p.get_text(strip=True) for p in content_div.find_all(\"p\") if p.get_text(strip=True)]\n",
    "    return \"\\n\".join(paragraphs)\n",
    "\n",
    "\n",
    "def crawl_cafef(max_pages: int = 1):\n",
    "    articles = []\n",
    "    for page in range(1, max_pages + 1):\n",
    "        url = get_url(page)\n",
    "        resp = requests.get(url, timeout=10)\n",
    "        resp.encoding = \"utf-8\"\n",
    "        soup = BeautifulSoup(resp.text, \"html.parser\")\n",
    "\n",
    "        blocks = soup.select(\"div.nv-text-cont\")\n",
    "        for block in blocks:\n",
    "            link_tag = block.select_one(\"a.news-title\")\n",
    "            if not link_tag:\n",
    "                continue\n",
    "\n",
    "            href = link_tag[\"href\"]\n",
    "            article_id = href.split(\"-\")[-1].replace(\".chn\", \"\")\n",
    "            title = link_tag.get(\"title\") or link_tag.text.strip()\n",
    "            link = BASE_URL + href\n",
    "\n",
    "            details = block.find_next_sibling(\"div\", class_=\"nv-details\")\n",
    "            short_content = details.select_one(\"div.abs\").text.strip() if details else \"\"\n",
    "            time_tag = details.select_one(\"span.time\")\n",
    "            time_text = time_tag.get_text(strip=True) if time_tag else \"\"\n",
    "\n",
    "            # Lấy toàn bộ nội dung trong link\n",
    "            full_content = get_article_content(link)\n",
    "\n",
    "            articles.append({\n",
    "                \"id\": article_id,\n",
    "                \"title\": title,\n",
    "                \"time\": time_text,\n",
    "                \"summary\": short_content,\n",
    "                \"link\": link,\n",
    "                \"content\": full_content\n",
    "            })\n",
    "    return articles\n",
    "\n",
    "\n",
    "if __name__ == \"__main__\":\n",
    "    data = crawl_cafef(max_pages=2)\n",
    "    for item in data[:2]:\n",
    "        print(item)\n"
   ]
  },
  {
   "cell_type": "code",
   "execution_count": 7,
   "id": "86696aec",
   "metadata": {},
   "outputs": [
    {
     "name": "stdout",
     "output_type": "stream",
     "text": [
      "collections=[CollectionDescription(name='collection')]\n"
     ]
    }
   ],
   "source": [
    "from qdrant_client import QdrantClient\n",
    "client = QdrantClient()\n",
    "print(client.get_collections())\n"
   ]
  },
  {
   "cell_type": "code",
   "execution_count": 1,
   "id": "e5f4f0c2",
   "metadata": {},
   "outputs": [
    {
     "ename": "NameError",
     "evalue": "name 'self' is not defined",
     "output_type": "error",
     "traceback": [
      "\u001b[31m---------------------------------------------------------------------------\u001b[39m",
      "\u001b[31mNameError\u001b[39m                                 Traceback (most recent call last)",
      "\u001b[36mCell\u001b[39m\u001b[36m \u001b[39m\u001b[32mIn[1]\u001b[39m\u001b[32m, line 4\u001b[39m\n\u001b[32m      1\u001b[39m \u001b[38;5;28;01mfrom\u001b[39;00m\u001b[38;5;250m \u001b[39m\u001b[34;01mqdrant_client\u001b[39;00m\u001b[38;5;250m \u001b[39m\u001b[38;5;28;01mimport\u001b[39;00m QdrantClient\n\u001b[32m      2\u001b[39m \u001b[38;5;28;01mimport\u001b[39;00m\u001b[38;5;250m \u001b[39m\u001b[34;01mos\u001b[39;00m\n\u001b[32m----> \u001b[39m\u001b[32m4\u001b[39m \u001b[38;5;28;43mself\u001b[39;49m.client = QdrantClient(\n\u001b[32m      5\u001b[39m     host=os.getenv(\u001b[33m\"\u001b[39m\u001b[33mQDRANT_HOST\u001b[39m\u001b[33m\"\u001b[39m, \u001b[33m\"\u001b[39m\u001b[33mqdrant\u001b[39m\u001b[33m\"\u001b[39m),\n\u001b[32m      6\u001b[39m     port=\u001b[38;5;28mint\u001b[39m(os.getenv(\u001b[33m\"\u001b[39m\u001b[33mQDRANT_PORT\u001b[39m\u001b[33m\"\u001b[39m, \u001b[32m6333\u001b[39m))\n\u001b[32m      7\u001b[39m )\n",
      "\u001b[31mNameError\u001b[39m: name 'self' is not defined"
     ]
    }
   ],
   "source": [
    "from qdrant_client import QdrantClient\n",
    "import os\n",
    "\n",
    "self.client = QdrantClient(\n",
    "    host=os.getenv(\"QDRANT_HOST\", \"qdrant\"),\n",
    "    port=int(os.getenv(\"QDRANT_PORT\", 6333))\n",
    ")\n"
   ]
  },
  {
   "cell_type": "code",
   "execution_count": 17,
   "id": "78ddfd63",
   "metadata": {},
   "outputs": [
    {
     "name": "stdout",
     "output_type": "stream",
     "text": [
      "Collection 'collection' có 12 vector (lấy tối đa 100):\n",
      "ID: 86651, payload: {'source': 'app'}, vector length: 0\n",
      "ID: 175468, payload: {'source': 'app'}, vector length: 0\n",
      "ID: 190315, payload: {'source': 'app'}, vector length: 0\n",
      "ID: 236817, payload: {'source': 'app'}, vector length: 0\n",
      "ID: 318901, payload: {'source': 'app'}, vector length: 0\n",
      "ID: 351531, payload: {'source': 'app'}, vector length: 0\n",
      "ID: 462858, payload: {'source': 'app'}, vector length: 0\n",
      "ID: 534956, payload: {'source': 'app'}, vector length: 0\n",
      "ID: 586207, payload: {'source': 'app'}, vector length: 0\n",
      "ID: 603741, payload: {'source': 'app'}, vector length: 0\n",
      "ID: 798773, payload: {'source': 'app'}, vector length: 0\n",
      "ID: 845293, payload: {'source': 'app'}, vector length: 0\n"
     ]
    }
   ],
   "source": [
    "from qdrant_client import QdrantClient\n",
    "\n",
    "def list_vectors_in_qdrant(collection_name: str = \"my_collection\", host: str = \"localhost\", port: int = 6333, limit: int = 100):\n",
    "    \"\"\"\n",
    "    Liệt kê tất cả vectors trong collection và in ID + payload + độ dài vector.\n",
    "    \"\"\"\n",
    "    client = QdrantClient(host=host, port=port)\n",
    "\n",
    "    try:\n",
    "        points, next_page = client.scroll(\n",
    "            collection_name=collection_name,\n",
    "            limit=limit\n",
    "        )\n",
    "\n",
    "        if not points:\n",
    "            print(f\"Collection '{collection_name}' hiện chưa có vector nào.\")\n",
    "        else:\n",
    "            print(f\"Collection '{collection_name}' có {len(points)} vector (lấy tối đa {limit}):\")\n",
    "            for point in points:\n",
    "                print(f\"ID: {point.id}, payload: {point.payload}, vector length: {len(point.vector) if point.vector else 0}\")\n",
    "\n",
    "            # nếu còn next_page thì nghĩa là collection còn nhiều vector nữa\n",
    "            if next_page:\n",
    "                print(\"⚠️ Collection còn vector khác, hãy tăng limit hoặc tiếp tục scroll với offset.\")\n",
    "    except Exception as e:\n",
    "        print(\"Lỗi khi truy vấn Qdrant:\", e)\n",
    "\n",
    "# Test\n",
    "list_vectors_in_qdrant(collection_name=\"collection\")\n"
   ]
  }
 ],
 "metadata": {
  "kernelspec": {
   "display_name": "Python 3",
   "language": "python",
   "name": "python3"
  },
  "language_info": {
   "codemirror_mode": {
    "name": "ipython",
    "version": 3
   },
   "file_extension": ".py",
   "mimetype": "text/x-python",
   "name": "python",
   "nbconvert_exporter": "python",
   "pygments_lexer": "ipython3",
   "version": "3.11.9"
  }
 },
 "nbformat": 4,
 "nbformat_minor": 5
}
