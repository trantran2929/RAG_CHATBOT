{
 "cells": [
  {
   "cell_type": "code",
   "execution_count": 1,
   "id": "cf264705",
   "metadata": {},
   "outputs": [
    {
     "name": "stdout",
     "output_type": "stream",
     "text": [
      "collections=[CollectionDescription(name='rag_knowledge'), CollectionDescription(name='chat_history')]\n",
      "status=<CollectionStatus.GREEN: 'green'> optimizer_status=<OptimizersStatusOneOf.OK: 'ok'> vectors_count=None indexed_vectors_count=0 points_count=2 segments_count=6 config=CollectionConfig(params=CollectionParams(vectors=VectorParams(size=384, distance=<Distance.COSINE: 'Cosine'>, hnsw_config=None, quantization_config=None, on_disk=None, datatype=None, multivector_config=None), shard_number=1, sharding_method=None, replication_factor=1, write_consistency_factor=1, read_fan_out_factor=None, on_disk_payload=True, sparse_vectors=None), hnsw_config=HnswConfig(m=16, ef_construct=100, full_scan_threshold=10000, max_indexing_threads=0, on_disk=False, payload_m=None), optimizer_config=OptimizersConfig(deleted_threshold=0.2, vacuum_min_vector_number=1000, default_segment_number=0, max_segment_size=None, memmap_threshold=None, indexing_threshold=10000, flush_interval_sec=5, max_optimization_threads=None), wal_config=WalConfig(wal_capacity_mb=32, wal_segments_ahead=0), quantization_config=None, strict_mode_config=StrictModeConfigOutput(enabled=False, max_query_limit=None, max_timeout=None, unindexed_filtering_retrieve=None, unindexed_filtering_update=None, search_max_hnsw_ef=None, search_allow_exact=None, search_max_oversampling=None, upsert_max_batchsize=None, max_collection_vector_size_bytes=None, read_rate_limit=None, write_rate_limit=None, max_collection_payload_size_bytes=None, max_points_count=None, filter_max_conditions=None, condition_max_size=None, multivector_config=None, sparse_config=None)) payload_schema={}\n"
     ]
    }
   ],
   "source": [
    "from qdrant_client import QdrantClient\n",
    "\n",
    "client = QdrantClient(host=\"localhost\", port=6333)\n",
    "\n",
    "# List collections\n",
    "print(client.get_collections())\n",
    "\n",
    "# Check info collection\n",
    "info = client.get_collection(\"chat_history\")\n",
    "print(info)\n"
   ]
  },
  {
   "cell_type": "code",
   "execution_count": 5,
   "id": "147b79fa",
   "metadata": {},
   "outputs": [
    {
     "name": "stdout",
     "output_type": "stream",
     "text": [
      "Found 1 collections:\n",
      "\n",
      "========================================\n",
      "Collection name: collection\n",
      "Points count: 0\n",
      "Vector config: size=384, distance=Cosine\n",
      "Sample points (up to 10):\n"
     ]
    }
   ],
   "source": [
    "from qdrant_client import QdrantClient\n",
    "from pprint import pprint\n",
    "\n",
    "client = QdrantClient(host=\"localhost\", port=6333)\n",
    "\n",
    "def inspect_qdrant():\n",
    "    collections = client.get_collections().collections\n",
    "    print(f\"Found {len(collections)} collections:\")\n",
    "    \n",
    "    for col in collections:\n",
    "        print(\"\\n\" + \"=\"*40)\n",
    "        print(f\"Collection name: {col.name}\")\n",
    "        try:\n",
    "            info = client.get_collection(col.name)\n",
    "            print(f\"Points count: {info.points_count}\")\n",
    "            vectors = info.config.params.vectors\n",
    "            if isinstance(vectors, dict):\n",
    "                print(\"Vector names & sizes:\")\n",
    "                for name, vcfg in vectors.items():\n",
    "                    print(f\"  - {name}: size={vcfg.size}, distance={vcfg.distance}\")\n",
    "            else:\n",
    "                print(f\"Vector config: size={vectors.size}, distance={vectors.distance}\")\n",
    "        except Exception as e:\n",
    "            print(\"Could not fetch collection info:\", e)\n",
    "        \n",
    "        print(\"Sample points (up to 10):\")\n",
    "        try:\n",
    "            resp, _ = client.scroll(col.name, limit=10, with_payload=True)\n",
    "            points = getattr(resp, \"result\", resp)\n",
    "            for p in points:\n",
    "                vector_names = list(p.vector.keys()) if isinstance(p.vector, dict) else [\"default\"]\n",
    "                print(f\"  id={p.id}, vector_names={vector_names}, payload={p.payload}\")\n",
    "        except Exception as e:\n",
    "            print(\"Could not fetch points:\", e)\n",
    "\n",
    "if __name__ == \"__main__\":\n",
    "    inspect_qdrant()\n"
   ]
  },
  {
   "cell_type": "code",
   "execution_count": 6,
   "id": "898fe3a0",
   "metadata": {},
   "outputs": [
    {
     "name": "stdout",
     "output_type": "stream",
     "text": [
      "Tổng số vector: None\n"
     ]
    }
   ],
   "source": [
    "from qdrant_client import QdrantClient\n",
    "\n",
    "# Kết nối Qdrant (ví dụ chạy local)\n",
    "client = QdrantClient(\"http://localhost:6333\")\n",
    "\n",
    "collection_name = \"collection\"\n",
    "\n",
    "# Lấy thông tin collection\n",
    "info = client.get_collection(collection_name)\n",
    "print(\"Tổng số vector:\", info.vectors_count)\n"
   ]
  },
  {
   "cell_type": "code",
   "execution_count": 7,
   "id": "e2c803cf",
   "metadata": {},
   "outputs": [
    {
     "name": "stdout",
     "output_type": "stream",
     "text": [
      "Kết quả tìm được: []\n"
     ]
    },
    {
     "name": "stderr",
     "output_type": "stream",
     "text": [
      "C:\\Users\\admin\\AppData\\Local\\Temp\\ipykernel_14208\\2745754574.py:6: DeprecationWarning: `search` method is deprecated and will be removed in the future. Use `query_points` instead.\n",
      "  result = client.search(\n"
     ]
    }
   ],
   "source": [
    "import numpy as np\n",
    "\n",
    "# Giả sử bạn có embedding vector test \n",
    "dummy_vector = np.random.rand(384).tolist()\n",
    "\n",
    "result = client.search(\n",
    "    collection_name=collection_name,\n",
    "    query_vector=dummy_vector,\n",
    "    limit=3\n",
    ")\n",
    "\n",
    "print(\"Kết quả tìm được:\", result)\n"
   ]
  },
  {
   "cell_type": "code",
   "execution_count": 10,
   "id": "cafb2401",
   "metadata": {},
   "outputs": [
    {
     "name": "stdout",
     "output_type": "stream",
     "text": [
      "📂 Danh sách collections trong Qdrant:\n",
      " - collection: 1 vectors\n"
     ]
    }
   ],
   "source": [
    "import qdrant_client\n",
    "\n",
    "def check_collections():\n",
    "    client = qdrant_client.QdrantClient(host=\"localhost\", port=6333)\n",
    "\n",
    "    collections = client.get_collections()\n",
    "    print(\"📂 Danh sách collections trong Qdrant:\")\n",
    "    for coll in collections.collections:\n",
    "        name = coll.name\n",
    "\n",
    "        # Dùng count để chắc chắn có số vector\n",
    "        count = client.count(collection_name=name, exact=True).count\n",
    "        print(f\" - {name}: {count} vectors\")\n",
    "\n",
    "    if not collections.collections:\n",
    "        print(\"⚠️ Không có collection nào trong Qdrant (rỗng).\")\n",
    "\n",
    "if __name__ == \"__main__\":\n",
    "    check_collections()\n"
   ]
  },
  {
   "cell_type": "code",
   "execution_count": 5,
   "id": "24e26cbe",
   "metadata": {},
   "outputs": [
    {
     "name": "stdout",
     "output_type": "stream",
     "text": [
      "collections=[CollectionDescription(name='collection')]\n",
      "count=0\n",
      "([], None)\n"
     ]
    }
   ],
   "source": [
    "from qdrant_client import QdrantClient\n",
    "\n",
    "client = QdrantClient(\"http://localhost:6333\")\n",
    "\n",
    "# Xem các collection hiện có\n",
    "print(client.get_collections())\n",
    "\n",
    "# Nếu có collection \"documents\", xem thử số lượng points\n",
    "print(client.count(collection_name=\"collection\", exact=True))\n",
    "\n",
    "# Lấy vài point mẫu\n",
    "points = client.scroll(collection_name=\"collection\", limit=5)\n",
    "print(points)\n"
   ]
  },
  {
   "cell_type": "code",
   "execution_count": 14,
   "id": "c11b90b1",
   "metadata": {},
   "outputs": [
    {
     "ename": "TypeError",
     "evalue": "GlobalState.__init__() got an unexpected keyword argument 'user_input'",
     "output_type": "error",
     "traceback": [
      "\u001b[31m---------------------------------------------------------------------------\u001b[39m",
      "\u001b[31mTypeError\u001b[39m                                 Traceback (most recent call last)",
      "\u001b[36mCell\u001b[39m\u001b[36m \u001b[39m\u001b[32mIn[14]\u001b[39m\u001b[32m, line 4\u001b[39m\n\u001b[32m      1\u001b[39m \u001b[38;5;66;03m# Test case\u001b[39;00m\n\u001b[32m      2\u001b[39m \u001b[38;5;28;01mfrom\u001b[39;00m\u001b[38;5;250m \u001b[39m\u001b[34;01mmodules\u001b[39;00m\u001b[34;01m.\u001b[39;00m\u001b[34;01mcore\u001b[39;00m\u001b[34;01m.\u001b[39;00m\u001b[34;01mstate\u001b[39;00m\u001b[38;5;250m \u001b[39m\u001b[38;5;28;01mimport\u001b[39;00m GlobalState\n\u001b[32m----> \u001b[39m\u001b[32m4\u001b[39m state = \u001b[43mGlobalState\u001b[49m\u001b[43m(\u001b[49m\u001b[43muser_input\u001b[49m\u001b[43m=\u001b[49m\u001b[33;43m\"\u001b[39;49m\u001b[33;43mxin chào\u001b[39;49m\u001b[33;43m\"\u001b[39;49m\u001b[43m)\u001b[49m\n\u001b[32m      5\u001b[39m processed_state = processor_instance.process_query(state)\n\u001b[32m      7\u001b[39m \u001b[38;5;28mprint\u001b[39m(\u001b[33mf\u001b[39m\u001b[33m\"\u001b[39m\u001b[33mSkip retrieval: \u001b[39m\u001b[38;5;132;01m{\u001b[39;00mprocessed_state.skip_retrieval\u001b[38;5;132;01m}\u001b[39;00m\u001b[33m\"\u001b[39m)  \u001b[38;5;66;03m# True\u001b[39;00m\n",
      "\u001b[31mTypeError\u001b[39m: GlobalState.__init__() got an unexpected keyword argument 'user_input'"
     ]
    }
   ],
   "source": [
    "# Test case\n",
    "from modules.core.state import GlobalState\n",
    "\n",
    "state = GlobalState(user_input=\"xin chào\")\n",
    "processed_state = processor_instance.process_query(state)\n",
    "\n",
    "print(f\"Skip retrieval: {processed_state.skip_retrieval}\")  # True\n",
    "print(f\"Final answer: {processed_state.final_answer}\")      # \"Xin chào! Tôi có thể giúp gì cho bạn?\""
   ]
  }
 ],
 "metadata": {
  "kernelspec": {
   "display_name": "Python 3",
   "language": "python",
   "name": "python3"
  },
  "language_info": {
   "codemirror_mode": {
    "name": "ipython",
    "version": 3
   },
   "file_extension": ".py",
   "mimetype": "text/x-python",
   "name": "python",
   "nbconvert_exporter": "python",
   "pygments_lexer": "ipython3",
   "version": "3.11.9"
  }
 },
 "nbformat": 4,
 "nbformat_minor": 5
}
