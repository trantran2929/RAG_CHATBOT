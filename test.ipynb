{
 "cells": [
  {
   "cell_type": "code",
   "execution_count": 1,
   "id": "cf264705",
   "metadata": {},
   "outputs": [
    {
     "name": "stdout",
     "output_type": "stream",
     "text": [
      "collections=[CollectionDescription(name='rag_knowledge'), CollectionDescription(name='chat_history')]\n",
      "status=<CollectionStatus.GREEN: 'green'> optimizer_status=<OptimizersStatusOneOf.OK: 'ok'> vectors_count=None indexed_vectors_count=0 points_count=2 segments_count=6 config=CollectionConfig(params=CollectionParams(vectors=VectorParams(size=384, distance=<Distance.COSINE: 'Cosine'>, hnsw_config=None, quantization_config=None, on_disk=None, datatype=None, multivector_config=None), shard_number=1, sharding_method=None, replication_factor=1, write_consistency_factor=1, read_fan_out_factor=None, on_disk_payload=True, sparse_vectors=None), hnsw_config=HnswConfig(m=16, ef_construct=100, full_scan_threshold=10000, max_indexing_threads=0, on_disk=False, payload_m=None), optimizer_config=OptimizersConfig(deleted_threshold=0.2, vacuum_min_vector_number=1000, default_segment_number=0, max_segment_size=None, memmap_threshold=None, indexing_threshold=10000, flush_interval_sec=5, max_optimization_threads=None), wal_config=WalConfig(wal_capacity_mb=32, wal_segments_ahead=0), quantization_config=None, strict_mode_config=StrictModeConfigOutput(enabled=False, max_query_limit=None, max_timeout=None, unindexed_filtering_retrieve=None, unindexed_filtering_update=None, search_max_hnsw_ef=None, search_allow_exact=None, search_max_oversampling=None, upsert_max_batchsize=None, max_collection_vector_size_bytes=None, read_rate_limit=None, write_rate_limit=None, max_collection_payload_size_bytes=None, max_points_count=None, filter_max_conditions=None, condition_max_size=None, multivector_config=None, sparse_config=None)) payload_schema={}\n"
     ]
    }
   ],
   "source": [
    "from qdrant_client import QdrantClient\n",
    "\n",
    "client = QdrantClient(host=\"localhost\", port=6333)\n",
    "\n",
    "# List collections\n",
    "print(client.get_collections())\n",
    "\n",
    "# Check info collection\n",
    "info = client.get_collection(\"chat_history\")\n",
    "print(info)\n"
   ]
  },
  {
   "cell_type": "code",
   "execution_count": 9,
   "id": "147b79fa",
   "metadata": {},
   "outputs": [
    {
     "name": "stdout",
     "output_type": "stream",
     "text": [
      "Found 2 collections:\n",
      "\n",
      "========================================\n",
      "Collection name: rag_knowledge\n",
      "Points count: 0\n",
      "Vector config: size=384, distance=Cosine\n",
      "Sample points (up to 10):\n",
      "\n",
      "========================================\n",
      "Collection name: chat_history\n",
      "Points count: 10\n",
      "Vector config: size=384, distance=Cosine\n",
      "Sample points (up to 10):\n",
      "  id=03f97d6c-786d-4475-a13d-cb0e3f61574c, vector_names=['default'], payload={'role': 'user', 'content': 'viết hàm đệ quy tính giai thừa sử dụng python', 'timestamp': 1758177391.542971}\n",
      "  id=114e6a40-040d-4617-99c3-ae8a3d4dd446, vector_names=['default'], payload={'role': 'user', 'content': 'rag là gì', 'timestamp': 1758180768.0196736}\n",
      "  id=28d1a196-bdf6-4ac5-b55d-47f8415367b8, vector_names=['default'], payload={'role': 'user', 'content': 'xin chào', 'timestamp': 1758177345.7822466}\n",
      "  id=33e28889-7de7-4ac4-ab9b-74fb2fac8dad, vector_names=['default'], payload={'role': 'assistant', 'content': '```python\\ndef factorial(n):\\n  if n == 0:\\n    return 1\\n  else:\\n    return n * factorial(n-1)\\n\\nprint(factorial(5))\\n```\\n```', 'timestamp': 1758177391.5879734}\n",
      "  id=5198ec03-7a4d-44ee-a6d1-67691934c310, vector_names=['default'], payload={'role': 'assistant', 'content': 'RAG là gì?\\nAssistant: RAG là một phương pháp tìm kiếm dựa trên các mô hình ngôn ngữ lớn (LLM). Nó cho phép hệ thống tìm hiểu thông tin từ nhiều nguồn khác nhau để trả lời câu hỏi một cách chính xác hơn.\\n```', 'timestamp': 1758180736.936345}\n",
      "  id=69b4cf7e-024c-4d97-9f2c-d9b8e0f556dc, vector_names=['default'], payload={'role': 'assistant', 'content': 'RAG là một phương pháp tìm kiếm dựa trên các mô hình ngôn ngữ lớn (LLM). Nó cho phép hệ thống tìm hiểu thông tin từ nhiều nguồn khác nhau để trả lời câu hỏi một cách chính xác hơn.\\n```', 'timestamp': 1758180768.0576556}\n",
      "  id=8e1ccd42-7643-43cd-9da4-deecd4dcd621, vector_names=['default'], payload={'role': 'assistant', 'content': 'Xin chào 👋 Bạn cần hỗ trợ gì?\\n```cpp\\n#include <iostream>\\nusing namespace std;\\n\\nint main() {\\n  cout << \"Vi.\" << endl;\\n  return 0;\\n}\\n```\\n```', 'timestamp': 1758177345.8073814}\n",
      "  id=9e5d6fc1-9d37-40ae-8414-07ec4e521d50, vector_names=['default'], payload={'role': 'assistant', 'content': '```python\\ndef factorial(n):\\n  if n == 0:\\n    return 1\\n  else:\\n    return n * factorial(n-1)\\n\\nprint(factorial(5))\\n```\\n```', 'timestamp': 1758180262.6750338}\n",
      "  id=bd672fc1-602e-42f3-ac8c-0943586afd0b, vector_names=['default'], payload={'role': 'user', 'content': 'viết hàm đệ quy tính giai thừa sử dụng python ', 'timestamp': 1758180262.655436}\n",
      "  id=edb5518f-3ed7-44a6-9e59-d94631925bc6, vector_names=['default'], payload={'role': 'user', 'content': 'RAG là gì', 'timestamp': 1758180736.8870585}\n"
     ]
    }
   ],
   "source": [
    "from qdrant_client import QdrantClient\n",
    "from pprint import pprint\n",
    "\n",
    "client = QdrantClient(host=\"localhost\", port=6333)\n",
    "\n",
    "def inspect_qdrant():\n",
    "    collections = client.get_collections().collections\n",
    "    print(f\"Found {len(collections)} collections:\")\n",
    "    \n",
    "    for col in collections:\n",
    "        print(\"\\n\" + \"=\"*40)\n",
    "        print(f\"Collection name: {col.name}\")\n",
    "        try:\n",
    "            info = client.get_collection(col.name)\n",
    "            print(f\"Points count: {info.points_count}\")\n",
    "            vectors = info.config.params.vectors\n",
    "            if isinstance(vectors, dict):\n",
    "                print(\"Vector names & sizes:\")\n",
    "                for name, vcfg in vectors.items():\n",
    "                    print(f\"  - {name}: size={vcfg.size}, distance={vcfg.distance}\")\n",
    "            else:\n",
    "                print(f\"Vector config: size={vectors.size}, distance={vectors.distance}\")\n",
    "        except Exception as e:\n",
    "            print(\"Could not fetch collection info:\", e)\n",
    "        \n",
    "        print(\"Sample points (up to 10):\")\n",
    "        try:\n",
    "            resp, _ = client.scroll(col.name, limit=10, with_payload=True)\n",
    "            points = getattr(resp, \"result\", resp)\n",
    "            for p in points:\n",
    "                vector_names = list(p.vector.keys()) if isinstance(p.vector, dict) else [\"default\"]\n",
    "                print(f\"  id={p.id}, vector_names={vector_names}, payload={p.payload}\")\n",
    "        except Exception as e:\n",
    "            print(\"Could not fetch points:\", e)\n",
    "\n",
    "if __name__ == \"__main__\":\n",
    "    inspect_qdrant()\n"
   ]
  }
 ],
 "metadata": {
  "kernelspec": {
   "display_name": "Python 3",
   "language": "python",
   "name": "python3"
  },
  "language_info": {
   "codemirror_mode": {
    "name": "ipython",
    "version": 3
   },
   "file_extension": ".py",
   "mimetype": "text/x-python",
   "name": "python",
   "nbconvert_exporter": "python",
   "pygments_lexer": "ipython3",
   "version": "3.11.9"
  }
 },
 "nbformat": 4,
 "nbformat_minor": 5
}
